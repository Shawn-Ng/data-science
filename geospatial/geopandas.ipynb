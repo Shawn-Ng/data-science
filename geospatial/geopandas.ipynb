{
 "cells": [
  {
   "cell_type": "markdown",
   "metadata": {},
   "source": [
    "- https://www.twilio.com/blog/2017/08/geospatial-analysis-python-geojson-geopandas.html\n",
    "- https://github.com/lesley2958/twilio-geospatial"
   ]
  },
  {
   "cell_type": "code",
   "execution_count": 1,
   "metadata": {},
   "outputs": [],
   "source": [
    "from shapely.geometry import Point, Polygon"
   ]
  },
  {
   "cell_type": "code",
   "execution_count": 2,
   "metadata": {},
   "outputs": [
    {
     "name": "stdout",
     "output_type": "stream",
     "text": [
      "POINT (0 0)\n"
     ]
    }
   ],
   "source": [
    "p1 = Point(0,0)\n",
    "print(p1)"
   ]
  },
  {
   "cell_type": "code",
   "execution_count": 3,
   "metadata": {},
   "outputs": [
    {
     "name": "stdout",
     "output_type": "stream",
     "text": [
      "False\n"
     ]
    }
   ],
   "source": [
    "print(p1 == (0,0))"
   ]
  },
  {
   "cell_type": "code",
   "execution_count": 4,
   "metadata": {},
   "outputs": [
    {
     "name": "stdout",
     "output_type": "stream",
     "text": [
      "<class 'shapely.geometry.point.Point'>\n"
     ]
    }
   ],
   "source": [
    "print(type(p1))"
   ]
  },
  {
   "cell_type": "code",
   "execution_count": 5,
   "metadata": {},
   "outputs": [],
   "source": [
    "polygon = Polygon([(0,0), (1,1), (1,0)])"
   ]
  },
  {
   "cell_type": "markdown",
   "metadata": {},
   "source": [
    "https://github.com/ContinuumIO/anaconda-issues/issues/9449"
   ]
  },
  {
   "cell_type": "code",
   "execution_count": 6,
   "metadata": {},
   "outputs": [],
   "source": [
    "import geopandas as gpd"
   ]
  },
  {
   "cell_type": "code",
   "execution_count": 7,
   "metadata": {},
   "outputs": [
    {
     "data": {
      "text/html": [
       "<div>\n",
       "<style scoped>\n",
       "    .dataframe tbody tr th:only-of-type {\n",
       "        vertical-align: middle;\n",
       "    }\n",
       "\n",
       "    .dataframe tbody tr th {\n",
       "        vertical-align: top;\n",
       "    }\n",
       "\n",
       "    .dataframe thead th {\n",
       "        text-align: right;\n",
       "    }\n",
       "</style>\n",
       "<table border=\"1\" class=\"dataframe\">\n",
       "  <thead>\n",
       "    <tr style=\"text-align: right;\">\n",
       "      <th></th>\n",
       "      <th>id</th>\n",
       "      <th>adm1_code</th>\n",
       "      <th>featurecla</th>\n",
       "      <th>scalerank</th>\n",
       "      <th>geometry</th>\n",
       "    </tr>\n",
       "  </thead>\n",
       "  <tbody>\n",
       "    <tr>\n",
       "      <th>0</th>\n",
       "      <td>0</td>\n",
       "      <td>USA-3514</td>\n",
       "      <td>Admin-1 scale rank</td>\n",
       "      <td>2</td>\n",
       "      <td>POLYGON ((-89.59941 48.01027, -89.48888 48.013...</td>\n",
       "    </tr>\n",
       "    <tr>\n",
       "      <th>1</th>\n",
       "      <td>1</td>\n",
       "      <td>USA-3515</td>\n",
       "      <td>Admin-1 scale rank</td>\n",
       "      <td>2</td>\n",
       "      <td>POLYGON ((-111.19419 44.56116, -111.29155 44.7...</td>\n",
       "    </tr>\n",
       "    <tr>\n",
       "      <th>2</th>\n",
       "      <td>2</td>\n",
       "      <td>USA-3516</td>\n",
       "      <td>Admin-1 scale rank</td>\n",
       "      <td>2</td>\n",
       "      <td>POLYGON ((-96.60136 46.35136, -96.53891 46.199...</td>\n",
       "    </tr>\n",
       "    <tr>\n",
       "      <th>3</th>\n",
       "      <td>3</td>\n",
       "      <td>USA-3517</td>\n",
       "      <td>Admin-1 scale rank</td>\n",
       "      <td>2</td>\n",
       "      <td>MULTIPOLYGON (((-155.93665 19.05939, -155.9080...</td>\n",
       "    </tr>\n",
       "    <tr>\n",
       "      <th>4</th>\n",
       "      <td>4</td>\n",
       "      <td>USA-3518</td>\n",
       "      <td>Admin-1 scale rank</td>\n",
       "      <td>2</td>\n",
       "      <td>POLYGON ((-111.04973 44.48816, -111.05025 42.0...</td>\n",
       "    </tr>\n",
       "  </tbody>\n",
       "</table>\n",
       "</div>"
      ],
      "text/plain": [
       "  id adm1_code          featurecla  scalerank  \\\n",
       "0  0  USA-3514  Admin-1 scale rank          2   \n",
       "1  1  USA-3515  Admin-1 scale rank          2   \n",
       "2  2  USA-3516  Admin-1 scale rank          2   \n",
       "3  3  USA-3517  Admin-1 scale rank          2   \n",
       "4  4  USA-3518  Admin-1 scale rank          2   \n",
       "\n",
       "                                            geometry  \n",
       "0  POLYGON ((-89.59941 48.01027, -89.48888 48.013...  \n",
       "1  POLYGON ((-111.19419 44.56116, -111.29155 44.7...  \n",
       "2  POLYGON ((-96.60136 46.35136, -96.53891 46.199...  \n",
       "3  MULTIPOLYGON (((-155.93665 19.05939, -155.9080...  \n",
       "4  POLYGON ((-111.04973 44.48816, -111.05025 42.0...  "
      ]
     },
     "execution_count": 7,
     "metadata": {},
     "output_type": "execute_result"
    }
   ],
   "source": [
    "states = gpd.read_file('states.geojson')\n",
    "states.head()"
   ]
  },
  {
   "cell_type": "code",
   "execution_count": null,
   "metadata": {},
   "outputs": [],
   "source": [
    "import geojsonio"
   ]
  },
  {
   "cell_type": "markdown",
   "metadata": {},
   "source": [
    "once display is run, browser will open interface"
   ]
  },
  {
   "cell_type": "code",
   "execution_count": null,
   "metadata": {},
   "outputs": [],
   "source": [
    "geojsonio.display(states)"
   ]
  },
  {
   "cell_type": "code",
   "execution_count": null,
   "metadata": {},
   "outputs": [],
   "source": [
    "contents = open('map.geojson').read()\n",
    "print(contents)"
   ]
  },
  {
   "cell_type": "code",
   "execution_count": null,
   "metadata": {},
   "outputs": [],
   "source": [
    "geojsonio.display(contents)"
   ]
  },
  {
   "cell_type": "code",
   "execution_count": null,
   "metadata": {},
   "outputs": [],
   "source": []
  }
 ],
 "metadata": {
  "kernelspec": {
   "display_name": "Python 3",
   "language": "python",
   "name": "python3"
  },
  "language_info": {
   "codemirror_mode": {
    "name": "ipython",
    "version": 3
   },
   "file_extension": ".py",
   "mimetype": "text/x-python",
   "name": "python",
   "nbconvert_exporter": "python",
   "pygments_lexer": "ipython3",
   "version": "3.8.2"
  }
 },
 "nbformat": 4,
 "nbformat_minor": 2
}

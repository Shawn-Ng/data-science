{
 "cells": [
  {
   "cell_type": "code",
   "execution_count": 1,
   "metadata": {},
   "outputs": [],
   "source": [
    "from geopy.geocoders import Nominatim"
   ]
  },
  {
   "cell_type": "code",
   "execution_count": 2,
   "metadata": {},
   "outputs": [
    {
     "name": "stdout",
     "output_type": "stream",
     "text": [
      "address:\n",
      " Singapore, Central, 178957, Singapore\n",
      "altitude:\n",
      " 0.0\n",
      "latitude:\n",
      " 1.2904753\n",
      "longitude:\n",
      " 103.8520359\n",
      "point:\n",
      " 1 17m 25.7111s N, 103 51m 7.32924s E\n",
      "raw:\n",
      " {'place_id': '5025188', 'licence': 'Data © OpenStreetMap contributors, ODbL 1.0. https://osm.org/copyright', 'osm_type': 'node', 'osm_id': '531668011', 'boundingbox': ['1.1304753', '1.4504753', '103.6920359', '104.0120359'], 'lat': '1.2904753', 'lon': '103.8520359', 'display_name': 'Singapore, Central, 178957, Singapore', 'class': 'place', 'type': 'city', 'importance': 0.30149952280006, 'icon': 'https://nominatim.openstreetmap.org/images/mapicons/poi_place_city.p.20.png'}\n"
     ]
    }
   ],
   "source": [
    "geolocator = Nominatim()\n",
    "location = geolocator.geocode(\"Singapore\")\n",
    "print('address:\\n', location.address)\n",
    "print('altitude:\\n', location.altitude)\n",
    "print('latitude:\\n', location.latitude)\n",
    "print('longitude:\\n', location.longitude)\n",
    "print('point:\\n', location.point)\n",
    "print('raw:\\n', location.raw)"
   ]
  },
  {
   "cell_type": "code",
   "execution_count": 3,
   "metadata": {},
   "outputs": [
    {
     "name": "stdout",
     "output_type": "stream",
     "text": [
      "['__class__', '__delattr__', '__dir__', '__doc__', '__eq__', '__format__', '__ge__', '__getattribute__', '__getitem__', '__getstate__', '__gt__', '__hash__', '__init__', '__init_subclass__', '__iter__', '__le__', '__len__', '__lt__', '__module__', '__ne__', '__new__', '__reduce__', '__reduce_ex__', '__repr__', '__setattr__', '__setstate__', '__sizeof__', '__slots__', '__str__', '__subclasshook__', '__unicode__', '_address', '_point', '_raw', '_tuple', 'address', 'altitude', 'latitude', 'longitude', 'point', 'raw']\n"
     ]
    }
   ],
   "source": [
    "print(dir(location))"
   ]
  },
  {
   "cell_type": "code",
   "execution_count": 4,
   "metadata": {},
   "outputs": [
    {
     "name": "stdout",
     "output_type": "stream",
     "text": [
      "address:\n",
      " Old City Hall, 1, Saint Andrew's Road, Clarke Quay, City Hall, Singapore, Central, 178957, Singapore\n"
     ]
    }
   ],
   "source": [
    "from geopy.geocoders import Nominatim\n",
    "geolocator = Nominatim()\n",
    "location = geolocator.reverse(('1.2904753', '103.8520359'))\n",
    "print('address:\\n', location.address)"
   ]
  },
  {
   "cell_type": "code",
   "execution_count": null,
   "metadata": {},
   "outputs": [],
   "source": []
  }
 ],
 "metadata": {
  "kernelspec": {
   "display_name": "Python 3",
   "language": "python",
   "name": "python3"
  },
  "language_info": {
   "codemirror_mode": {
    "name": "ipython",
    "version": 3
   },
   "file_extension": ".py",
   "mimetype": "text/x-python",
   "name": "python",
   "nbconvert_exporter": "python",
   "pygments_lexer": "ipython3",
   "version": "3.6.5"
  }
 },
 "nbformat": 4,
 "nbformat_minor": 2
}

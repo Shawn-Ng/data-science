{
 "cells": [
  {
   "cell_type": "markdown",
   "metadata": {},
   "source": [
    "# Complete guide to boxplot\n",
    "- Pandas doc: https://pandas.pydata.org/pandas-docs/stable/generated/pandas.DataFrame.boxplot.html\n",
    "- Matplotlib doc: https://matplotlib.org/api/_as_gen/matplotlib.pyplot.boxplot.html#matplotlib.pyplot.boxplot\n",
    "- Matplotlib customization doc: https://matplotlib.org/tutorials/introductory/customizing.html?highlight=flierprops"
   ]
  },
  {
   "cell_type": "markdown",
   "metadata": {},
   "source": [
    "## 1. Configuration"
   ]
  },
  {
   "cell_type": "code",
   "execution_count": 1,
   "metadata": {
    "collapsed": true
   },
   "outputs": [],
   "source": [
    "import pandas as pd\n",
    "import matplotlib.pyplot as plt\n",
    "%matplotlib inline\n",
    "\n",
    "import warnings\n",
    "warnings.filterwarnings(\"ignore\")"
   ]
  },
  {
   "cell_type": "markdown",
   "metadata": {},
   "source": [
    "---"
   ]
  },
  {
   "cell_type": "markdown",
   "metadata": {},
   "source": [
    "## 2. Data"
   ]
  },
  {
   "cell_type": "code",
   "execution_count": 2,
   "metadata": {
    "scrolled": true
   },
   "outputs": [
    {
     "data": {
      "text/html": [
       "<div>\n",
       "<style>\n",
       "    .dataframe thead tr:only-child th {\n",
       "        text-align: right;\n",
       "    }\n",
       "\n",
       "    .dataframe thead th {\n",
       "        text-align: left;\n",
       "    }\n",
       "\n",
       "    .dataframe tbody tr th {\n",
       "        vertical-align: top;\n",
       "    }\n",
       "</style>\n",
       "<table border=\"1\" class=\"dataframe\">\n",
       "  <thead>\n",
       "    <tr style=\"text-align: right;\">\n",
       "      <th></th>\n",
       "      <th>mpg</th>\n",
       "      <th>cyl</th>\n",
       "      <th>displ</th>\n",
       "      <th>hp</th>\n",
       "      <th>weight</th>\n",
       "      <th>accel</th>\n",
       "      <th>yr</th>\n",
       "      <th>origin</th>\n",
       "      <th>name</th>\n",
       "      <th>color</th>\n",
       "      <th>size</th>\n",
       "      <th>marker</th>\n",
       "    </tr>\n",
       "  </thead>\n",
       "  <tbody>\n",
       "    <tr>\n",
       "      <th>0</th>\n",
       "      <td>18.0</td>\n",
       "      <td>6</td>\n",
       "      <td>250.0</td>\n",
       "      <td>88</td>\n",
       "      <td>3139</td>\n",
       "      <td>14.5</td>\n",
       "      <td>71</td>\n",
       "      <td>US</td>\n",
       "      <td>ford mustang</td>\n",
       "      <td>red</td>\n",
       "      <td>27.370336</td>\n",
       "      <td>o</td>\n",
       "    </tr>\n",
       "    <tr>\n",
       "      <th>1</th>\n",
       "      <td>9.0</td>\n",
       "      <td>8</td>\n",
       "      <td>304.0</td>\n",
       "      <td>193</td>\n",
       "      <td>4732</td>\n",
       "      <td>18.5</td>\n",
       "      <td>70</td>\n",
       "      <td>US</td>\n",
       "      <td>hi 1200d</td>\n",
       "      <td>green</td>\n",
       "      <td>62.199511</td>\n",
       "      <td>o</td>\n",
       "    </tr>\n",
       "    <tr>\n",
       "      <th>2</th>\n",
       "      <td>36.1</td>\n",
       "      <td>4</td>\n",
       "      <td>91.0</td>\n",
       "      <td>60</td>\n",
       "      <td>1800</td>\n",
       "      <td>16.4</td>\n",
       "      <td>78</td>\n",
       "      <td>Asia</td>\n",
       "      <td>honda civic cvcc</td>\n",
       "      <td>blue</td>\n",
       "      <td>9.000000</td>\n",
       "      <td>x</td>\n",
       "    </tr>\n",
       "    <tr>\n",
       "      <th>3</th>\n",
       "      <td>18.5</td>\n",
       "      <td>6</td>\n",
       "      <td>250.0</td>\n",
       "      <td>98</td>\n",
       "      <td>3525</td>\n",
       "      <td>19.0</td>\n",
       "      <td>77</td>\n",
       "      <td>US</td>\n",
       "      <td>ford granada</td>\n",
       "      <td>red</td>\n",
       "      <td>34.515625</td>\n",
       "      <td>o</td>\n",
       "    </tr>\n",
       "    <tr>\n",
       "      <th>4</th>\n",
       "      <td>34.3</td>\n",
       "      <td>4</td>\n",
       "      <td>97.0</td>\n",
       "      <td>78</td>\n",
       "      <td>2188</td>\n",
       "      <td>15.8</td>\n",
       "      <td>80</td>\n",
       "      <td>Europe</td>\n",
       "      <td>audi 4000</td>\n",
       "      <td>blue</td>\n",
       "      <td>13.298178</td>\n",
       "      <td>s</td>\n",
       "    </tr>\n",
       "    <tr>\n",
       "      <th>5</th>\n",
       "      <td>32.9</td>\n",
       "      <td>4</td>\n",
       "      <td>119.0</td>\n",
       "      <td>100</td>\n",
       "      <td>2615</td>\n",
       "      <td>14.8</td>\n",
       "      <td>81</td>\n",
       "      <td>Asia</td>\n",
       "      <td>datsun 200sx</td>\n",
       "      <td>blue</td>\n",
       "      <td>18.995069</td>\n",
       "      <td>x</td>\n",
       "    </tr>\n",
       "    <tr>\n",
       "      <th>6</th>\n",
       "      <td>32.2</td>\n",
       "      <td>4</td>\n",
       "      <td>108.0</td>\n",
       "      <td>75</td>\n",
       "      <td>2265</td>\n",
       "      <td>15.2</td>\n",
       "      <td>80</td>\n",
       "      <td>Asia</td>\n",
       "      <td>toyota corolla</td>\n",
       "      <td>blue</td>\n",
       "      <td>14.250625</td>\n",
       "      <td>x</td>\n",
       "    </tr>\n",
       "    <tr>\n",
       "      <th>7</th>\n",
       "      <td>22.0</td>\n",
       "      <td>4</td>\n",
       "      <td>121.0</td>\n",
       "      <td>76</td>\n",
       "      <td>2511</td>\n",
       "      <td>18.0</td>\n",
       "      <td>72</td>\n",
       "      <td>Europe</td>\n",
       "      <td>volkswagen 411 (sw)</td>\n",
       "      <td>blue</td>\n",
       "      <td>17.514225</td>\n",
       "      <td>s</td>\n",
       "    </tr>\n",
       "    <tr>\n",
       "      <th>8</th>\n",
       "      <td>15.0</td>\n",
       "      <td>8</td>\n",
       "      <td>302.0</td>\n",
       "      <td>130</td>\n",
       "      <td>4295</td>\n",
       "      <td>14.9</td>\n",
       "      <td>77</td>\n",
       "      <td>US</td>\n",
       "      <td>mercury cougar brougham</td>\n",
       "      <td>green</td>\n",
       "      <td>51.241736</td>\n",
       "      <td>o</td>\n",
       "    </tr>\n",
       "    <tr>\n",
       "      <th>9</th>\n",
       "      <td>17.0</td>\n",
       "      <td>8</td>\n",
       "      <td>302.0</td>\n",
       "      <td>140</td>\n",
       "      <td>3449</td>\n",
       "      <td>10.5</td>\n",
       "      <td>70</td>\n",
       "      <td>US</td>\n",
       "      <td>ford torino</td>\n",
       "      <td>green</td>\n",
       "      <td>33.043336</td>\n",
       "      <td>o</td>\n",
       "    </tr>\n",
       "    <tr>\n",
       "      <th>10</th>\n",
       "      <td>44.0</td>\n",
       "      <td>4</td>\n",
       "      <td>97.0</td>\n",
       "      <td>52</td>\n",
       "      <td>2130</td>\n",
       "      <td>24.6</td>\n",
       "      <td>82</td>\n",
       "      <td>Europe</td>\n",
       "      <td>vw pickup</td>\n",
       "      <td>blue</td>\n",
       "      <td>12.602500</td>\n",
       "      <td>s</td>\n",
       "    </tr>\n",
       "    <tr>\n",
       "      <th>11</th>\n",
       "      <td>24.5</td>\n",
       "      <td>4</td>\n",
       "      <td>151.0</td>\n",
       "      <td>88</td>\n",
       "      <td>2740</td>\n",
       "      <td>16.0</td>\n",
       "      <td>77</td>\n",
       "      <td>US</td>\n",
       "      <td>pontiac sunbird coupe</td>\n",
       "      <td>blue</td>\n",
       "      <td>20.854444</td>\n",
       "      <td>o</td>\n",
       "    </tr>\n",
       "    <tr>\n",
       "      <th>12</th>\n",
       "      <td>32.0</td>\n",
       "      <td>4</td>\n",
       "      <td>135.0</td>\n",
       "      <td>84</td>\n",
       "      <td>2295</td>\n",
       "      <td>11.6</td>\n",
       "      <td>82</td>\n",
       "      <td>US</td>\n",
       "      <td>dodge rampage</td>\n",
       "      <td>blue</td>\n",
       "      <td>14.630625</td>\n",
       "      <td>o</td>\n",
       "    </tr>\n",
       "    <tr>\n",
       "      <th>13</th>\n",
       "      <td>14.0</td>\n",
       "      <td>8</td>\n",
       "      <td>351.0</td>\n",
       "      <td>148</td>\n",
       "      <td>4657</td>\n",
       "      <td>13.5</td>\n",
       "      <td>75</td>\n",
       "      <td>US</td>\n",
       "      <td>ford ltd</td>\n",
       "      <td>green</td>\n",
       "      <td>60.243469</td>\n",
       "      <td>o</td>\n",
       "    </tr>\n",
       "    <tr>\n",
       "      <th>14</th>\n",
       "      <td>15.0</td>\n",
       "      <td>8</td>\n",
       "      <td>400.0</td>\n",
       "      <td>150</td>\n",
       "      <td>3761</td>\n",
       "      <td>9.5</td>\n",
       "      <td>70</td>\n",
       "      <td>US</td>\n",
       "      <td>chevrolet monte carlo</td>\n",
       "      <td>green</td>\n",
       "      <td>39.292003</td>\n",
       "      <td>o</td>\n",
       "    </tr>\n",
       "    <tr>\n",
       "      <th>15</th>\n",
       "      <td>13.0</td>\n",
       "      <td>8</td>\n",
       "      <td>307.0</td>\n",
       "      <td>130</td>\n",
       "      <td>4098</td>\n",
       "      <td>14.0</td>\n",
       "      <td>72</td>\n",
       "      <td>US</td>\n",
       "      <td>chevrolet chevelle concours (sw)</td>\n",
       "      <td>green</td>\n",
       "      <td>46.648900</td>\n",
       "      <td>o</td>\n",
       "    </tr>\n",
       "    <tr>\n",
       "      <th>16</th>\n",
       "      <td>36.0</td>\n",
       "      <td>4</td>\n",
       "      <td>79.0</td>\n",
       "      <td>58</td>\n",
       "      <td>1825</td>\n",
       "      <td>18.6</td>\n",
       "      <td>77</td>\n",
       "      <td>Europe</td>\n",
       "      <td>renault 5 gtl</td>\n",
       "      <td>blue</td>\n",
       "      <td>9.251736</td>\n",
       "      <td>s</td>\n",
       "    </tr>\n",
       "    <tr>\n",
       "      <th>17</th>\n",
       "      <td>31.0</td>\n",
       "      <td>4</td>\n",
       "      <td>119.0</td>\n",
       "      <td>82</td>\n",
       "      <td>2720</td>\n",
       "      <td>19.4</td>\n",
       "      <td>82</td>\n",
       "      <td>US</td>\n",
       "      <td>chevy s-10</td>\n",
       "      <td>blue</td>\n",
       "      <td>20.551111</td>\n",
       "      <td>o</td>\n",
       "    </tr>\n",
       "    <tr>\n",
       "      <th>18</th>\n",
       "      <td>32.0</td>\n",
       "      <td>4</td>\n",
       "      <td>71.0</td>\n",
       "      <td>65</td>\n",
       "      <td>1836</td>\n",
       "      <td>21.0</td>\n",
       "      <td>74</td>\n",
       "      <td>Asia</td>\n",
       "      <td>toyota corolla 1200</td>\n",
       "      <td>blue</td>\n",
       "      <td>9.363600</td>\n",
       "      <td>x</td>\n",
       "    </tr>\n",
       "    <tr>\n",
       "      <th>19</th>\n",
       "      <td>21.5</td>\n",
       "      <td>3</td>\n",
       "      <td>80.0</td>\n",
       "      <td>110</td>\n",
       "      <td>2720</td>\n",
       "      <td>13.5</td>\n",
       "      <td>77</td>\n",
       "      <td>Asia</td>\n",
       "      <td>mazda rx-4</td>\n",
       "      <td>black</td>\n",
       "      <td>20.551111</td>\n",
       "      <td>x</td>\n",
       "    </tr>\n",
       "    <tr>\n",
       "      <th>20</th>\n",
       "      <td>19.0</td>\n",
       "      <td>6</td>\n",
       "      <td>225.0</td>\n",
       "      <td>95</td>\n",
       "      <td>3264</td>\n",
       "      <td>16.0</td>\n",
       "      <td>75</td>\n",
       "      <td>US</td>\n",
       "      <td>plymouth valiant custom</td>\n",
       "      <td>red</td>\n",
       "      <td>29.593600</td>\n",
       "      <td>o</td>\n",
       "    </tr>\n",
       "    <tr>\n",
       "      <th>21</th>\n",
       "      <td>17.0</td>\n",
       "      <td>6</td>\n",
       "      <td>231.0</td>\n",
       "      <td>110</td>\n",
       "      <td>3907</td>\n",
       "      <td>21.0</td>\n",
       "      <td>75</td>\n",
       "      <td>US</td>\n",
       "      <td>buick century</td>\n",
       "      <td>red</td>\n",
       "      <td>42.401803</td>\n",
       "      <td>o</td>\n",
       "    </tr>\n",
       "    <tr>\n",
       "      <th>22</th>\n",
       "      <td>16.0</td>\n",
       "      <td>8</td>\n",
       "      <td>302.0</td>\n",
       "      <td>140</td>\n",
       "      <td>4141</td>\n",
       "      <td>14.0</td>\n",
       "      <td>74</td>\n",
       "      <td>US</td>\n",
       "      <td>ford gran torino</td>\n",
       "      <td>green</td>\n",
       "      <td>47.633003</td>\n",
       "      <td>o</td>\n",
       "    </tr>\n",
       "    <tr>\n",
       "      <th>23</th>\n",
       "      <td>15.0</td>\n",
       "      <td>8</td>\n",
       "      <td>383.0</td>\n",
       "      <td>170</td>\n",
       "      <td>3563</td>\n",
       "      <td>10.0</td>\n",
       "      <td>70</td>\n",
       "      <td>US</td>\n",
       "      <td>dodge challenger se</td>\n",
       "      <td>green</td>\n",
       "      <td>35.263803</td>\n",
       "      <td>o</td>\n",
       "    </tr>\n",
       "    <tr>\n",
       "      <th>24</th>\n",
       "      <td>23.0</td>\n",
       "      <td>4</td>\n",
       "      <td>140.0</td>\n",
       "      <td>78</td>\n",
       "      <td>2592</td>\n",
       "      <td>18.5</td>\n",
       "      <td>75</td>\n",
       "      <td>US</td>\n",
       "      <td>pontiac astro</td>\n",
       "      <td>blue</td>\n",
       "      <td>18.662400</td>\n",
       "      <td>o</td>\n",
       "    </tr>\n",
       "    <tr>\n",
       "      <th>25</th>\n",
       "      <td>26.0</td>\n",
       "      <td>4</td>\n",
       "      <td>98.0</td>\n",
       "      <td>90</td>\n",
       "      <td>2265</td>\n",
       "      <td>15.5</td>\n",
       "      <td>73</td>\n",
       "      <td>Europe</td>\n",
       "      <td>fiat 124 sport coupe</td>\n",
       "      <td>blue</td>\n",
       "      <td>14.250625</td>\n",
       "      <td>s</td>\n",
       "    </tr>\n",
       "    <tr>\n",
       "      <th>26</th>\n",
       "      <td>32.0</td>\n",
       "      <td>4</td>\n",
       "      <td>144.0</td>\n",
       "      <td>96</td>\n",
       "      <td>2665</td>\n",
       "      <td>13.9</td>\n",
       "      <td>82</td>\n",
       "      <td>Asia</td>\n",
       "      <td>toyota celica gt</td>\n",
       "      <td>blue</td>\n",
       "      <td>19.728403</td>\n",
       "      <td>x</td>\n",
       "    </tr>\n",
       "    <tr>\n",
       "      <th>27</th>\n",
       "      <td>24.0</td>\n",
       "      <td>4</td>\n",
       "      <td>113.0</td>\n",
       "      <td>95</td>\n",
       "      <td>2372</td>\n",
       "      <td>15.0</td>\n",
       "      <td>70</td>\n",
       "      <td>Asia</td>\n",
       "      <td>toyota corona mark ii</td>\n",
       "      <td>blue</td>\n",
       "      <td>15.628844</td>\n",
       "      <td>x</td>\n",
       "    </tr>\n",
       "    <tr>\n",
       "      <th>28</th>\n",
       "      <td>21.0</td>\n",
       "      <td>6</td>\n",
       "      <td>231.0</td>\n",
       "      <td>110</td>\n",
       "      <td>3039</td>\n",
       "      <td>15.0</td>\n",
       "      <td>75</td>\n",
       "      <td>US</td>\n",
       "      <td>buick skyhawk</td>\n",
       "      <td>red</td>\n",
       "      <td>25.654225</td>\n",
       "      <td>o</td>\n",
       "    </tr>\n",
       "    <tr>\n",
       "      <th>29</th>\n",
       "      <td>31.3</td>\n",
       "      <td>4</td>\n",
       "      <td>120.0</td>\n",
       "      <td>75</td>\n",
       "      <td>2542</td>\n",
       "      <td>17.5</td>\n",
       "      <td>80</td>\n",
       "      <td>Asia</td>\n",
       "      <td>mazda 626</td>\n",
       "      <td>blue</td>\n",
       "      <td>17.949344</td>\n",
       "      <td>x</td>\n",
       "    </tr>\n",
       "    <tr>\n",
       "      <th>...</th>\n",
       "      <td>...</td>\n",
       "      <td>...</td>\n",
       "      <td>...</td>\n",
       "      <td>...</td>\n",
       "      <td>...</td>\n",
       "      <td>...</td>\n",
       "      <td>...</td>\n",
       "      <td>...</td>\n",
       "      <td>...</td>\n",
       "      <td>...</td>\n",
       "      <td>...</td>\n",
       "      <td>...</td>\n",
       "    </tr>\n",
       "    <tr>\n",
       "      <th>362</th>\n",
       "      <td>26.0</td>\n",
       "      <td>4</td>\n",
       "      <td>97.0</td>\n",
       "      <td>46</td>\n",
       "      <td>1950</td>\n",
       "      <td>21.0</td>\n",
       "      <td>73</td>\n",
       "      <td>Europe</td>\n",
       "      <td>volkswagen super beetle</td>\n",
       "      <td>blue</td>\n",
       "      <td>10.562500</td>\n",
       "      <td>s</td>\n",
       "    </tr>\n",
       "    <tr>\n",
       "      <th>363</th>\n",
       "      <td>30.0</td>\n",
       "      <td>4</td>\n",
       "      <td>135.0</td>\n",
       "      <td>84</td>\n",
       "      <td>2385</td>\n",
       "      <td>12.9</td>\n",
       "      <td>81</td>\n",
       "      <td>US</td>\n",
       "      <td>plymouth reliant</td>\n",
       "      <td>blue</td>\n",
       "      <td>15.800625</td>\n",
       "      <td>o</td>\n",
       "    </tr>\n",
       "    <tr>\n",
       "      <th>364</th>\n",
       "      <td>29.0</td>\n",
       "      <td>4</td>\n",
       "      <td>90.0</td>\n",
       "      <td>70</td>\n",
       "      <td>1937</td>\n",
       "      <td>14.2</td>\n",
       "      <td>76</td>\n",
       "      <td>Europe</td>\n",
       "      <td>vw rabbit</td>\n",
       "      <td>blue</td>\n",
       "      <td>10.422136</td>\n",
       "      <td>s</td>\n",
       "    </tr>\n",
       "    <tr>\n",
       "      <th>365</th>\n",
       "      <td>14.0</td>\n",
       "      <td>8</td>\n",
       "      <td>351.0</td>\n",
       "      <td>153</td>\n",
       "      <td>4154</td>\n",
       "      <td>13.5</td>\n",
       "      <td>71</td>\n",
       "      <td>US</td>\n",
       "      <td>ford galaxie 500</td>\n",
       "      <td>green</td>\n",
       "      <td>47.932544</td>\n",
       "      <td>o</td>\n",
       "    </tr>\n",
       "    <tr>\n",
       "      <th>366</th>\n",
       "      <td>25.4</td>\n",
       "      <td>6</td>\n",
       "      <td>168.0</td>\n",
       "      <td>116</td>\n",
       "      <td>2900</td>\n",
       "      <td>12.6</td>\n",
       "      <td>81</td>\n",
       "      <td>Asia</td>\n",
       "      <td>toyota cressida</td>\n",
       "      <td>red</td>\n",
       "      <td>23.361111</td>\n",
       "      <td>x</td>\n",
       "    </tr>\n",
       "    <tr>\n",
       "      <th>367</th>\n",
       "      <td>19.0</td>\n",
       "      <td>6</td>\n",
       "      <td>232.0</td>\n",
       "      <td>100</td>\n",
       "      <td>2901</td>\n",
       "      <td>16.0</td>\n",
       "      <td>74</td>\n",
       "      <td>US</td>\n",
       "      <td>amc hornet</td>\n",
       "      <td>red</td>\n",
       "      <td>23.377225</td>\n",
       "      <td>o</td>\n",
       "    </tr>\n",
       "    <tr>\n",
       "      <th>368</th>\n",
       "      <td>12.0</td>\n",
       "      <td>8</td>\n",
       "      <td>400.0</td>\n",
       "      <td>167</td>\n",
       "      <td>4906</td>\n",
       "      <td>12.5</td>\n",
       "      <td>73</td>\n",
       "      <td>US</td>\n",
       "      <td>ford country</td>\n",
       "      <td>green</td>\n",
       "      <td>66.857878</td>\n",
       "      <td>o</td>\n",
       "    </tr>\n",
       "    <tr>\n",
       "      <th>369</th>\n",
       "      <td>20.0</td>\n",
       "      <td>4</td>\n",
       "      <td>97.0</td>\n",
       "      <td>88</td>\n",
       "      <td>2279</td>\n",
       "      <td>19.0</td>\n",
       "      <td>73</td>\n",
       "      <td>Asia</td>\n",
       "      <td>toyota carina</td>\n",
       "      <td>blue</td>\n",
       "      <td>14.427336</td>\n",
       "      <td>x</td>\n",
       "    </tr>\n",
       "    <tr>\n",
       "      <th>370</th>\n",
       "      <td>27.0</td>\n",
       "      <td>4</td>\n",
       "      <td>97.0</td>\n",
       "      <td>88</td>\n",
       "      <td>2130</td>\n",
       "      <td>14.5</td>\n",
       "      <td>71</td>\n",
       "      <td>Asia</td>\n",
       "      <td>datsun pl510</td>\n",
       "      <td>blue</td>\n",
       "      <td>12.602500</td>\n",
       "      <td>x</td>\n",
       "    </tr>\n",
       "    <tr>\n",
       "      <th>371</th>\n",
       "      <td>22.3</td>\n",
       "      <td>4</td>\n",
       "      <td>140.0</td>\n",
       "      <td>88</td>\n",
       "      <td>2890</td>\n",
       "      <td>17.3</td>\n",
       "      <td>79</td>\n",
       "      <td>US</td>\n",
       "      <td>ford fairmont 4</td>\n",
       "      <td>blue</td>\n",
       "      <td>23.200278</td>\n",
       "      <td>o</td>\n",
       "    </tr>\n",
       "    <tr>\n",
       "      <th>372</th>\n",
       "      <td>10.0</td>\n",
       "      <td>8</td>\n",
       "      <td>307.0</td>\n",
       "      <td>200</td>\n",
       "      <td>4376</td>\n",
       "      <td>15.0</td>\n",
       "      <td>70</td>\n",
       "      <td>US</td>\n",
       "      <td>chevy c20</td>\n",
       "      <td>green</td>\n",
       "      <td>53.192711</td>\n",
       "      <td>o</td>\n",
       "    </tr>\n",
       "    <tr>\n",
       "      <th>373</th>\n",
       "      <td>19.2</td>\n",
       "      <td>8</td>\n",
       "      <td>267.0</td>\n",
       "      <td>125</td>\n",
       "      <td>3605</td>\n",
       "      <td>15.0</td>\n",
       "      <td>79</td>\n",
       "      <td>US</td>\n",
       "      <td>chevrolet malibu classic (sw)</td>\n",
       "      <td>green</td>\n",
       "      <td>36.100069</td>\n",
       "      <td>o</td>\n",
       "    </tr>\n",
       "    <tr>\n",
       "      <th>374</th>\n",
       "      <td>26.0</td>\n",
       "      <td>4</td>\n",
       "      <td>156.0</td>\n",
       "      <td>92</td>\n",
       "      <td>2585</td>\n",
       "      <td>14.5</td>\n",
       "      <td>82</td>\n",
       "      <td>US</td>\n",
       "      <td>chrysler lebaron medallion</td>\n",
       "      <td>blue</td>\n",
       "      <td>18.561736</td>\n",
       "      <td>o</td>\n",
       "    </tr>\n",
       "    <tr>\n",
       "      <th>375</th>\n",
       "      <td>16.0</td>\n",
       "      <td>6</td>\n",
       "      <td>258.0</td>\n",
       "      <td>110</td>\n",
       "      <td>3632</td>\n",
       "      <td>18.0</td>\n",
       "      <td>74</td>\n",
       "      <td>US</td>\n",
       "      <td>amc matador</td>\n",
       "      <td>red</td>\n",
       "      <td>36.642844</td>\n",
       "      <td>o</td>\n",
       "    </tr>\n",
       "    <tr>\n",
       "      <th>376</th>\n",
       "      <td>37.3</td>\n",
       "      <td>4</td>\n",
       "      <td>91.0</td>\n",
       "      <td>69</td>\n",
       "      <td>2130</td>\n",
       "      <td>14.7</td>\n",
       "      <td>79</td>\n",
       "      <td>Europe</td>\n",
       "      <td>fiat strada custom</td>\n",
       "      <td>blue</td>\n",
       "      <td>12.602500</td>\n",
       "      <td>s</td>\n",
       "    </tr>\n",
       "    <tr>\n",
       "      <th>377</th>\n",
       "      <td>26.0</td>\n",
       "      <td>4</td>\n",
       "      <td>79.0</td>\n",
       "      <td>67</td>\n",
       "      <td>1963</td>\n",
       "      <td>15.5</td>\n",
       "      <td>74</td>\n",
       "      <td>Europe</td>\n",
       "      <td>volkswagen dasher</td>\n",
       "      <td>blue</td>\n",
       "      <td>10.703803</td>\n",
       "      <td>s</td>\n",
       "    </tr>\n",
       "    <tr>\n",
       "      <th>378</th>\n",
       "      <td>20.2</td>\n",
       "      <td>6</td>\n",
       "      <td>232.0</td>\n",
       "      <td>90</td>\n",
       "      <td>3265</td>\n",
       "      <td>18.2</td>\n",
       "      <td>79</td>\n",
       "      <td>US</td>\n",
       "      <td>amc concord dl 6</td>\n",
       "      <td>red</td>\n",
       "      <td>29.611736</td>\n",
       "      <td>o</td>\n",
       "    </tr>\n",
       "    <tr>\n",
       "      <th>379</th>\n",
       "      <td>13.0</td>\n",
       "      <td>8</td>\n",
       "      <td>318.0</td>\n",
       "      <td>150</td>\n",
       "      <td>3755</td>\n",
       "      <td>14.0</td>\n",
       "      <td>76</td>\n",
       "      <td>US</td>\n",
       "      <td>dodge d100</td>\n",
       "      <td>green</td>\n",
       "      <td>39.166736</td>\n",
       "      <td>o</td>\n",
       "    </tr>\n",
       "    <tr>\n",
       "      <th>380</th>\n",
       "      <td>21.0</td>\n",
       "      <td>6</td>\n",
       "      <td>199.0</td>\n",
       "      <td>90</td>\n",
       "      <td>2648</td>\n",
       "      <td>15.0</td>\n",
       "      <td>70</td>\n",
       "      <td>US</td>\n",
       "      <td>amc gremlin</td>\n",
       "      <td>red</td>\n",
       "      <td>19.477511</td>\n",
       "      <td>o</td>\n",
       "    </tr>\n",
       "    <tr>\n",
       "      <th>381</th>\n",
       "      <td>25.0</td>\n",
       "      <td>4</td>\n",
       "      <td>90.0</td>\n",
       "      <td>71</td>\n",
       "      <td>2223</td>\n",
       "      <td>16.5</td>\n",
       "      <td>75</td>\n",
       "      <td>Europe</td>\n",
       "      <td>volkswagen dasher</td>\n",
       "      <td>blue</td>\n",
       "      <td>13.727025</td>\n",
       "      <td>s</td>\n",
       "    </tr>\n",
       "    <tr>\n",
       "      <th>382</th>\n",
       "      <td>20.5</td>\n",
       "      <td>6</td>\n",
       "      <td>231.0</td>\n",
       "      <td>105</td>\n",
       "      <td>3425</td>\n",
       "      <td>16.9</td>\n",
       "      <td>77</td>\n",
       "      <td>US</td>\n",
       "      <td>buick skylark</td>\n",
       "      <td>red</td>\n",
       "      <td>32.585069</td>\n",
       "      <td>o</td>\n",
       "    </tr>\n",
       "    <tr>\n",
       "      <th>383</th>\n",
       "      <td>37.7</td>\n",
       "      <td>4</td>\n",
       "      <td>89.0</td>\n",
       "      <td>62</td>\n",
       "      <td>2050</td>\n",
       "      <td>17.3</td>\n",
       "      <td>81</td>\n",
       "      <td>Asia</td>\n",
       "      <td>toyota tercel</td>\n",
       "      <td>blue</td>\n",
       "      <td>11.673611</td>\n",
       "      <td>x</td>\n",
       "    </tr>\n",
       "    <tr>\n",
       "      <th>384</th>\n",
       "      <td>36.0</td>\n",
       "      <td>4</td>\n",
       "      <td>120.0</td>\n",
       "      <td>88</td>\n",
       "      <td>2160</td>\n",
       "      <td>14.5</td>\n",
       "      <td>82</td>\n",
       "      <td>Asia</td>\n",
       "      <td>nissan stanza xe</td>\n",
       "      <td>blue</td>\n",
       "      <td>12.960000</td>\n",
       "      <td>x</td>\n",
       "    </tr>\n",
       "    <tr>\n",
       "      <th>385</th>\n",
       "      <td>20.0</td>\n",
       "      <td>6</td>\n",
       "      <td>156.0</td>\n",
       "      <td>122</td>\n",
       "      <td>2807</td>\n",
       "      <td>13.5</td>\n",
       "      <td>73</td>\n",
       "      <td>Asia</td>\n",
       "      <td>toyota mark ii</td>\n",
       "      <td>red</td>\n",
       "      <td>21.886803</td>\n",
       "      <td>x</td>\n",
       "    </tr>\n",
       "    <tr>\n",
       "      <th>386</th>\n",
       "      <td>37.0</td>\n",
       "      <td>4</td>\n",
       "      <td>85.0</td>\n",
       "      <td>65</td>\n",
       "      <td>1975</td>\n",
       "      <td>19.4</td>\n",
       "      <td>81</td>\n",
       "      <td>Asia</td>\n",
       "      <td>datsun 210 mpg</td>\n",
       "      <td>blue</td>\n",
       "      <td>10.835069</td>\n",
       "      <td>x</td>\n",
       "    </tr>\n",
       "    <tr>\n",
       "      <th>387</th>\n",
       "      <td>18.0</td>\n",
       "      <td>6</td>\n",
       "      <td>250.0</td>\n",
       "      <td>88</td>\n",
       "      <td>3021</td>\n",
       "      <td>16.5</td>\n",
       "      <td>73</td>\n",
       "      <td>US</td>\n",
       "      <td>ford maverick</td>\n",
       "      <td>red</td>\n",
       "      <td>25.351225</td>\n",
       "      <td>o</td>\n",
       "    </tr>\n",
       "    <tr>\n",
       "      <th>388</th>\n",
       "      <td>27.0</td>\n",
       "      <td>4</td>\n",
       "      <td>151.0</td>\n",
       "      <td>90</td>\n",
       "      <td>2950</td>\n",
       "      <td>17.3</td>\n",
       "      <td>82</td>\n",
       "      <td>US</td>\n",
       "      <td>chevrolet camaro</td>\n",
       "      <td>blue</td>\n",
       "      <td>24.173611</td>\n",
       "      <td>o</td>\n",
       "    </tr>\n",
       "    <tr>\n",
       "      <th>389</th>\n",
       "      <td>29.5</td>\n",
       "      <td>4</td>\n",
       "      <td>98.0</td>\n",
       "      <td>68</td>\n",
       "      <td>2135</td>\n",
       "      <td>16.6</td>\n",
       "      <td>78</td>\n",
       "      <td>Asia</td>\n",
       "      <td>honda accord lx</td>\n",
       "      <td>blue</td>\n",
       "      <td>12.661736</td>\n",
       "      <td>x</td>\n",
       "    </tr>\n",
       "    <tr>\n",
       "      <th>390</th>\n",
       "      <td>17.5</td>\n",
       "      <td>6</td>\n",
       "      <td>250.0</td>\n",
       "      <td>110</td>\n",
       "      <td>3520</td>\n",
       "      <td>16.4</td>\n",
       "      <td>77</td>\n",
       "      <td>US</td>\n",
       "      <td>chevrolet concours</td>\n",
       "      <td>red</td>\n",
       "      <td>34.417778</td>\n",
       "      <td>o</td>\n",
       "    </tr>\n",
       "    <tr>\n",
       "      <th>391</th>\n",
       "      <td>25.1</td>\n",
       "      <td>4</td>\n",
       "      <td>140.0</td>\n",
       "      <td>88</td>\n",
       "      <td>2720</td>\n",
       "      <td>15.4</td>\n",
       "      <td>78</td>\n",
       "      <td>US</td>\n",
       "      <td>ford fairmont (man)</td>\n",
       "      <td>blue</td>\n",
       "      <td>20.551111</td>\n",
       "      <td>o</td>\n",
       "    </tr>\n",
       "  </tbody>\n",
       "</table>\n",
       "<p>392 rows × 12 columns</p>\n",
       "</div>"
      ],
      "text/plain": [
       "      mpg  cyl  displ   hp  weight  accel  yr  origin  \\\n",
       "0    18.0    6  250.0   88    3139   14.5  71      US   \n",
       "1     9.0    8  304.0  193    4732   18.5  70      US   \n",
       "2    36.1    4   91.0   60    1800   16.4  78    Asia   \n",
       "3    18.5    6  250.0   98    3525   19.0  77      US   \n",
       "4    34.3    4   97.0   78    2188   15.8  80  Europe   \n",
       "5    32.9    4  119.0  100    2615   14.8  81    Asia   \n",
       "6    32.2    4  108.0   75    2265   15.2  80    Asia   \n",
       "7    22.0    4  121.0   76    2511   18.0  72  Europe   \n",
       "8    15.0    8  302.0  130    4295   14.9  77      US   \n",
       "9    17.0    8  302.0  140    3449   10.5  70      US   \n",
       "10   44.0    4   97.0   52    2130   24.6  82  Europe   \n",
       "11   24.5    4  151.0   88    2740   16.0  77      US   \n",
       "12   32.0    4  135.0   84    2295   11.6  82      US   \n",
       "13   14.0    8  351.0  148    4657   13.5  75      US   \n",
       "14   15.0    8  400.0  150    3761    9.5  70      US   \n",
       "15   13.0    8  307.0  130    4098   14.0  72      US   \n",
       "16   36.0    4   79.0   58    1825   18.6  77  Europe   \n",
       "17   31.0    4  119.0   82    2720   19.4  82      US   \n",
       "18   32.0    4   71.0   65    1836   21.0  74    Asia   \n",
       "19   21.5    3   80.0  110    2720   13.5  77    Asia   \n",
       "20   19.0    6  225.0   95    3264   16.0  75      US   \n",
       "21   17.0    6  231.0  110    3907   21.0  75      US   \n",
       "22   16.0    8  302.0  140    4141   14.0  74      US   \n",
       "23   15.0    8  383.0  170    3563   10.0  70      US   \n",
       "24   23.0    4  140.0   78    2592   18.5  75      US   \n",
       "25   26.0    4   98.0   90    2265   15.5  73  Europe   \n",
       "26   32.0    4  144.0   96    2665   13.9  82    Asia   \n",
       "27   24.0    4  113.0   95    2372   15.0  70    Asia   \n",
       "28   21.0    6  231.0  110    3039   15.0  75      US   \n",
       "29   31.3    4  120.0   75    2542   17.5  80    Asia   \n",
       "..    ...  ...    ...  ...     ...    ...  ..     ...   \n",
       "362  26.0    4   97.0   46    1950   21.0  73  Europe   \n",
       "363  30.0    4  135.0   84    2385   12.9  81      US   \n",
       "364  29.0    4   90.0   70    1937   14.2  76  Europe   \n",
       "365  14.0    8  351.0  153    4154   13.5  71      US   \n",
       "366  25.4    6  168.0  116    2900   12.6  81    Asia   \n",
       "367  19.0    6  232.0  100    2901   16.0  74      US   \n",
       "368  12.0    8  400.0  167    4906   12.5  73      US   \n",
       "369  20.0    4   97.0   88    2279   19.0  73    Asia   \n",
       "370  27.0    4   97.0   88    2130   14.5  71    Asia   \n",
       "371  22.3    4  140.0   88    2890   17.3  79      US   \n",
       "372  10.0    8  307.0  200    4376   15.0  70      US   \n",
       "373  19.2    8  267.0  125    3605   15.0  79      US   \n",
       "374  26.0    4  156.0   92    2585   14.5  82      US   \n",
       "375  16.0    6  258.0  110    3632   18.0  74      US   \n",
       "376  37.3    4   91.0   69    2130   14.7  79  Europe   \n",
       "377  26.0    4   79.0   67    1963   15.5  74  Europe   \n",
       "378  20.2    6  232.0   90    3265   18.2  79      US   \n",
       "379  13.0    8  318.0  150    3755   14.0  76      US   \n",
       "380  21.0    6  199.0   90    2648   15.0  70      US   \n",
       "381  25.0    4   90.0   71    2223   16.5  75  Europe   \n",
       "382  20.5    6  231.0  105    3425   16.9  77      US   \n",
       "383  37.7    4   89.0   62    2050   17.3  81    Asia   \n",
       "384  36.0    4  120.0   88    2160   14.5  82    Asia   \n",
       "385  20.0    6  156.0  122    2807   13.5  73    Asia   \n",
       "386  37.0    4   85.0   65    1975   19.4  81    Asia   \n",
       "387  18.0    6  250.0   88    3021   16.5  73      US   \n",
       "388  27.0    4  151.0   90    2950   17.3  82      US   \n",
       "389  29.5    4   98.0   68    2135   16.6  78    Asia   \n",
       "390  17.5    6  250.0  110    3520   16.4  77      US   \n",
       "391  25.1    4  140.0   88    2720   15.4  78      US   \n",
       "\n",
       "                                 name  color       size marker  \n",
       "0                        ford mustang    red  27.370336      o  \n",
       "1                            hi 1200d  green  62.199511      o  \n",
       "2                    honda civic cvcc   blue   9.000000      x  \n",
       "3                        ford granada    red  34.515625      o  \n",
       "4                           audi 4000   blue  13.298178      s  \n",
       "5                        datsun 200sx   blue  18.995069      x  \n",
       "6                      toyota corolla   blue  14.250625      x  \n",
       "7                 volkswagen 411 (sw)   blue  17.514225      s  \n",
       "8             mercury cougar brougham  green  51.241736      o  \n",
       "9                         ford torino  green  33.043336      o  \n",
       "10                          vw pickup   blue  12.602500      s  \n",
       "11              pontiac sunbird coupe   blue  20.854444      o  \n",
       "12                      dodge rampage   blue  14.630625      o  \n",
       "13                           ford ltd  green  60.243469      o  \n",
       "14              chevrolet monte carlo  green  39.292003      o  \n",
       "15   chevrolet chevelle concours (sw)  green  46.648900      o  \n",
       "16                      renault 5 gtl   blue   9.251736      s  \n",
       "17                         chevy s-10   blue  20.551111      o  \n",
       "18                toyota corolla 1200   blue   9.363600      x  \n",
       "19                         mazda rx-4  black  20.551111      x  \n",
       "20            plymouth valiant custom    red  29.593600      o  \n",
       "21                      buick century    red  42.401803      o  \n",
       "22                   ford gran torino  green  47.633003      o  \n",
       "23                dodge challenger se  green  35.263803      o  \n",
       "24                      pontiac astro   blue  18.662400      o  \n",
       "25               fiat 124 sport coupe   blue  14.250625      s  \n",
       "26                   toyota celica gt   blue  19.728403      x  \n",
       "27              toyota corona mark ii   blue  15.628844      x  \n",
       "28                      buick skyhawk    red  25.654225      o  \n",
       "29                          mazda 626   blue  17.949344      x  \n",
       "..                                ...    ...        ...    ...  \n",
       "362           volkswagen super beetle   blue  10.562500      s  \n",
       "363                  plymouth reliant   blue  15.800625      o  \n",
       "364                         vw rabbit   blue  10.422136      s  \n",
       "365                  ford galaxie 500  green  47.932544      o  \n",
       "366                   toyota cressida    red  23.361111      x  \n",
       "367                        amc hornet    red  23.377225      o  \n",
       "368                      ford country  green  66.857878      o  \n",
       "369                     toyota carina   blue  14.427336      x  \n",
       "370                      datsun pl510   blue  12.602500      x  \n",
       "371                   ford fairmont 4   blue  23.200278      o  \n",
       "372                         chevy c20  green  53.192711      o  \n",
       "373     chevrolet malibu classic (sw)  green  36.100069      o  \n",
       "374        chrysler lebaron medallion   blue  18.561736      o  \n",
       "375                       amc matador    red  36.642844      o  \n",
       "376                fiat strada custom   blue  12.602500      s  \n",
       "377                 volkswagen dasher   blue  10.703803      s  \n",
       "378                  amc concord dl 6    red  29.611736      o  \n",
       "379                        dodge d100  green  39.166736      o  \n",
       "380                       amc gremlin    red  19.477511      o  \n",
       "381                 volkswagen dasher   blue  13.727025      s  \n",
       "382                     buick skylark    red  32.585069      o  \n",
       "383                     toyota tercel   blue  11.673611      x  \n",
       "384                  nissan stanza xe   blue  12.960000      x  \n",
       "385                    toyota mark ii    red  21.886803      x  \n",
       "386                    datsun 210 mpg   blue  10.835069      x  \n",
       "387                     ford maverick    red  25.351225      o  \n",
       "388                  chevrolet camaro   blue  24.173611      o  \n",
       "389                   honda accord lx   blue  12.661736      x  \n",
       "390                chevrolet concours    red  34.417778      o  \n",
       "391               ford fairmont (man)   blue  20.551111      o  \n",
       "\n",
       "[392 rows x 12 columns]"
      ]
     },
     "execution_count": 2,
     "metadata": {},
     "output_type": "execute_result"
    }
   ],
   "source": [
    "auto = pd.read_csv('auto-mpg.csv')\n",
    "auto"
   ]
  },
  {
   "cell_type": "markdown",
   "metadata": {},
   "source": [
    "---"
   ]
  },
  {
   "cell_type": "markdown",
   "metadata": {},
   "source": [
    "## 3. Pandas boxplot standard parameters\n",
    "`DataFrame.boxplot(column=None, by=None, ax=None, fontsize=None, rot=0, grid=True, figsize=None, layout=None, return_type=None, **kwds)`\n",
    "\n",
    "- ax: another plot\n",
    "- rot: text rotation\n",
    "- figsize, layout: tuple"
   ]
  },
  {
   "cell_type": "code",
   "execution_count": 3,
   "metadata": {},
   "outputs": [
    {
     "data": {
      "text/plain": [
       "Text(0,0.5,'mpg')"
      ]
     },
     "execution_count": 3,
     "metadata": {},
     "output_type": "execute_result"
    },
    {
     "data": {
      "image/png": "[encoded data removed]",
      "text/plain": [
       "<matplotlib.figure.Figure at 0x7fdf8ba47780>"
      ]
     },
     "metadata": {},
     "output_type": "display_data"
    }
   ],
   "source": [
    "auto.boxplot(column='mpg', by='color', ax=None, fontsize=12, rot=0, grid=True, \n",
    "             figsize=None, layout=None, return_type=None)\n",
    "\n",
    "# get rid of the automatic 'Boxplot grouped by group_by_column_name' title\n",
    "plt.suptitle('')\n",
    "\n",
    "# get rid of the title\n",
    "plt.title('')\n",
    "plt.ylabel('mpg')"
   ]
  },
  {
   "cell_type": "markdown",
   "metadata": {},
   "source": [
    "---"
   ]
  },
  {
   "cell_type": "markdown",
   "metadata": {},
   "source": [
    "## 4. Matplotlib boxplot parameters\n",
    "`\n",
    "matplotlib.pyplot.boxplot(x, notch=None, sym=None, vert=None, whis=None, positions=None, widths=None, patch_artist=None, bootstrap=None, usermedians=None, conf_intervals=None, meanline=None, showmeans=None, showcaps=None, showbox=None, showfliers=None, boxprops=None, labels=None, flierprops=None, medianprops=None, meanprops=None, capprops=None, whiskerprops=None, manage_xticks=True, autorange=False, zorder=None, hold=None, data=None)\n",
    "`"
   ]
  },
  {
   "cell_type": "markdown",
   "metadata": {},
   "source": [
    "### a) Notched plot"
   ]
  },
  {
   "cell_type": "code",
   "execution_count": 4,
   "metadata": {},
   "outputs": [
    {
     "data": {
      "text/plain": [
       "Text(0,0.5,'mpg')"
      ]
     },
     "execution_count": 4,
     "metadata": {},
     "output_type": "execute_result"
    },
    {
     "data": {
      "image/png": "[encoded data removed]",
      "text/plain": [
       "<matplotlib.figure.Figure at 0x7fdf83af1198>"
      ]
     },
     "metadata": {},
     "output_type": "display_data"
    }
   ],
   "source": [
    "auto.boxplot(column='mpg', by='color', ax=None, fontsize=12, rot=0, grid=True, \n",
    "             figsize=None, layout=None, return_type=None, \n",
    "             notch=True)\n",
    "plt.title('')\n",
    "plt.ylabel('mpg')"
   ]
  },
  {
   "cell_type": "markdown",
   "metadata": {
    "collapsed": true
   },
   "source": [
    "### b) Outliers points symbol, flierprops"
   ]
  },
  {
   "cell_type": "code",
   "execution_count": 5,
   "metadata": {},
   "outputs": [
    {
     "data": {
      "text/plain": [
       "Text(0,0.5,'mpg')"
      ]
     },
     "execution_count": 5,
     "metadata": {},
     "output_type": "execute_result"
    },
    {
     "data": {
      "image/png": "[encoded data removed]",
      "text/plain": [
       "<matplotlib.figure.Figure at 0x7fdf83a354a8>"
      ]
     },
     "metadata": {},
     "output_type": "display_data"
    },
    {
     "data": {
      "image/png": "[encoded data removed]",
      "text/plain": [
       "<matplotlib.figure.Figure at 0x7fdf839f79e8>"
      ]
     },
     "metadata": {},
     "output_type": "display_data"
    },
    {
     "data": {
      "image/png": "[encoded data removed]",
      "text/plain": [
       "<matplotlib.figure.Figure at 0x7fdf8398de10>"
      ]
     },
     "metadata": {},
     "output_type": "display_data"
    }
   ],
   "source": [
    "# Default\n",
    "auto.boxplot(column='mpg', by='color', ax=None, fontsize=12, rot=0, grid=True, \n",
    "             figsize=None, layout=None, return_type=None, \n",
    "             sym=None)\n",
    "plt.title('')\n",
    "plt.ylabel('mpg')\n",
    "\n",
    "# Don't show outlier points\n",
    "auto.boxplot(column='mpg', by='color', ax=None, fontsize=12, rot=0, grid=True, \n",
    "             figsize=None, layout=None, return_type=None, \n",
    "             sym='')\n",
    "plt.suptitle('Boxplot grouped by color (no outliers)')\n",
    "plt.title('')\n",
    "plt.ylabel('mpg')\n",
    "\n",
    "# Change outlier point symbol\n",
    "auto.boxplot(column='mpg', by='color', ax=None, fontsize=12, rot=0, grid=True, \n",
    "             figsize=None, layout=None, return_type=None, \n",
    "             sym='gD')\n",
    "plt.suptitle('Boxplot grouped by color (different outliers symbols)')\n",
    "plt.title('')\n",
    "plt.ylabel('mpg')"
   ]
  },
  {
   "cell_type": "markdown",
   "metadata": {},
   "source": [
    "### c) Horizontal boxplot"
   ]
  },
  {
   "cell_type": "code",
   "execution_count": 6,
   "metadata": {},
   "outputs": [
    {
     "data": {
      "text/plain": [
       "Text(0,0.5,'color')"
      ]
     },
     "execution_count": 6,
     "metadata": {},
     "output_type": "execute_result"
    },
    {
     "data": {
      "image/png": "[encoded data removed]",
      "text/plain": [
       "<matplotlib.figure.Figure at 0x7fdf8ba47be0>"
      ]
     },
     "metadata": {},
     "output_type": "display_data"
    }
   ],
   "source": [
    "auto.boxplot(column='mpg', by='color', ax=None, fontsize=12, rot=0, grid=True, \n",
    "             figsize=None, layout=None, return_type=None, \n",
    "             vert=False)\n",
    "plt.title('')\n",
    "plt.xlabel('mpg')\n",
    "plt.ylabel('color')"
   ]
  },
  {
   "cell_type": "markdown",
   "metadata": {},
   "source": [
    "### d) Whiskers"
   ]
  },
  {
   "cell_type": "code",
   "execution_count": 7,
   "metadata": {},
   "outputs": [
    {
     "data": {
      "text/plain": [
       "Text(0,0.5,'mpg')"
      ]
     },
     "execution_count": 7,
     "metadata": {},
     "output_type": "execute_result"
    },
    {
     "data": {
      "image/png": "[encoded data removed]",
      "text/plain": [
       "<matplotlib.figure.Figure at 0x7fdf8ba47b00>"
      ]
     },
     "metadata": {},
     "output_type": "display_data"
    },
    {
     "data": {
      "image/png": "[encoded data removed]",
      "text/plain": [
       "<matplotlib.figure.Figure at 0x7fdf83755630>"
      ]
     },
     "metadata": {},
     "output_type": "display_data"
    }
   ],
   "source": [
    "# Default\n",
    "auto.boxplot(column='mpg', by='color', ax=None, fontsize=12, rot=0, grid=True, \n",
    "             figsize=None, layout=None, return_type=None, \n",
    "             whis=1.5)\n",
    "plt.title('')\n",
    "plt.ylabel('mpg')\n",
    "\n",
    "# Specific percentile\n",
    "auto.boxplot(column='mpg', by='color', ax=None, fontsize=12, rot=0, grid=True, \n",
    "             figsize=None, layout=None, return_type=None, \n",
    "             whis=[5,95])\n",
    "plt.suptitle('Boxplot grouped by color (custom percentile)')\n",
    "plt.title('')\n",
    "plt.ylabel('mpg')"
   ]
  },
  {
   "cell_type": "markdown",
   "metadata": {},
   "source": [
    "### e) bootstrap & usermedians & conf_intervals\n",
    "- https://matplotlib.org/gallery/statistics/boxplot_demo.html#sphx-glr-gallery-statistics-boxplot-demo-py"
   ]
  },
  {
   "cell_type": "markdown",
   "metadata": {},
   "source": [
    "### f) Positions of categorical variable"
   ]
  },
  {
   "cell_type": "code",
   "execution_count": 8,
   "metadata": {},
   "outputs": [
    {
     "data": {
      "text/plain": [
       "Text(0,0.5,'mpg')"
      ]
     },
     "execution_count": 8,
     "metadata": {},
     "output_type": "execute_result"
    },
    {
     "data": {
      "image/png": "[encoded data removed]",
      "text/plain": [
       "<matplotlib.figure.Figure at 0x7fdf835f6550>"
      ]
     },
     "metadata": {},
     "output_type": "display_data"
    },
    {
     "data": {
      "image/png": "[encoded data removed]",
      "text/plain": [
       "<matplotlib.figure.Figure at 0x7fdf83653a90>"
      ]
     },
     "metadata": {},
     "output_type": "display_data"
    }
   ],
   "source": [
    "# Default\n",
    "auto.boxplot(column='mpg', by='color', ax=None, fontsize=12, rot=0, grid=True, \n",
    "             figsize=None, layout=None, return_type=None)\n",
    "plt.title('')\n",
    "plt.ylabel('mpg')\n",
    "\n",
    "# Reordered positions\n",
    "positions = [5,4,3,2,1]\n",
    "auto.boxplot(column='mpg', by='color', ax=None, fontsize=12, rot=0, grid=True, \n",
    "             figsize=None, layout=None, return_type=None, \n",
    "             positions=positions)\n",
    "plt.suptitle('Boxplot grouped by color (reversed order)')\n",
    "plt.title('')\n",
    "plt.ylabel('mpg')"
   ]
  },
  {
   "cell_type": "markdown",
   "metadata": {},
   "source": [
    "### g) Width between boxes"
   ]
  },
  {
   "cell_type": "code",
   "execution_count": 9,
   "metadata": {},
   "outputs": [
    {
     "data": {
      "text/plain": [
       "Text(0,0.5,'mpg')"
      ]
     },
     "execution_count": 9,
     "metadata": {},
     "output_type": "execute_result"
    },
    {
     "data": {
      "image/png": "[encoded data removed]",
      "text/plain": [
       "<matplotlib.figure.Figure at 0x7fdf835f6cf8>"
      ]
     },
     "metadata": {},
     "output_type": "display_data"
    },
    {
     "data": {
      "image/png": "[encoded data removed]",
      "text/plain": [
       "<matplotlib.figure.Figure at 0x7fdf839a7940>"
      ]
     },
     "metadata": {},
     "output_type": "display_data"
    }
   ],
   "source": [
    "# Default\n",
    "auto.boxplot(column='mpg', by='color', ax=None, fontsize=12, rot=0, grid=True, \n",
    "             figsize=None, layout=None, return_type=None)\n",
    "plt.title('')\n",
    "plt.ylabel('mpg')\n",
    "\n",
    "# Reordered positions\n",
    "positions = [5,4,3,2,1]\n",
    "auto.boxplot(column='mpg', by='color', ax=None, fontsize=12, rot=0, grid=True, \n",
    "             figsize=None, layout=None, return_type=None, \n",
    "             widths=0.75)\n",
    "plt.suptitle('Boxplot grouped by color (different widths)')\n",
    "plt.title('')\n",
    "plt.ylabel('mpg')"
   ]
  },
  {
   "cell_type": "markdown",
   "metadata": {},
   "source": [
    "### h) Type of artists"
   ]
  },
  {
   "cell_type": "code",
   "execution_count": 10,
   "metadata": {},
   "outputs": [
    {
     "data": {
      "text/plain": [
       "Text(0,0.5,'mpg')"
      ]
     },
     "execution_count": 10,
     "metadata": {},
     "output_type": "execute_result"
    },
    {
     "data": {
      "image/png": "[encoded data removed]",
      "text/plain": [
       "<matplotlib.figure.Figure at 0x7fdf8358df60>"
      ]
     },
     "metadata": {},
     "output_type": "display_data"
    },
    {
     "data": {
      "image/png": "[encoded data removed]",
      "text/plain": [
       "<matplotlib.figure.Figure at 0x7fdf8350fa20>"
      ]
     },
     "metadata": {},
     "output_type": "display_data"
    }
   ],
   "source": [
    "# Default\n",
    "auto.boxplot(column='mpg', by='color', ax=None, fontsize=12, rot=0, grid=True, \n",
    "             figsize=None, layout=None, return_type=None)\n",
    "plt.title('')\n",
    "plt.ylabel('mpg')\n",
    "\n",
    "# Reordered positions\n",
    "positions = [5,4,3,2,1]\n",
    "auto.boxplot(column='mpg', by='color', ax=None, fontsize=12, rot=0, grid=True, \n",
    "             figsize=None, layout=None, return_type=None, \n",
    "             patch_artist=True)\n",
    "plt.suptitle('Boxplot grouped by color (different artist)')\n",
    "plt.title('')\n",
    "plt.ylabel('mpg')"
   ]
  },
  {
   "cell_type": "markdown",
   "metadata": {},
   "source": [
    "### j) Labels\n",
    "- https://matplotlib.org/examples/statistics/boxplot_demo.html"
   ]
  },
  {
   "cell_type": "markdown",
   "metadata": {},
   "source": [
    "### k) Manage xticks"
   ]
  },
  {
   "cell_type": "code",
   "execution_count": 11,
   "metadata": {},
   "outputs": [
    {
     "data": {
      "text/plain": [
       "Text(0,0.5,'mpg')"
      ]
     },
     "execution_count": 11,
     "metadata": {},
     "output_type": "execute_result"
    },
    {
     "data": {
      "image/png": "[encoded data removed]",
      "text/plain": [
       "<matplotlib.figure.Figure at 0x7fdf833b7cf8>"
      ]
     },
     "metadata": {},
     "output_type": "display_data"
    },
    {
     "data": {
      "image/png": "[encoded data removed]",
      "text/plain": [
       "<matplotlib.figure.Figure at 0x7fdf8337ee80>"
      ]
     },
     "metadata": {},
     "output_type": "display_data"
    }
   ],
   "source": [
    "# Default\n",
    "auto.boxplot(column='mpg', by='color', ax=None, fontsize=12, rot=0, grid=True, \n",
    "             figsize=None, layout=None, return_type=None)\n",
    "plt.title('')\n",
    "plt.ylabel('mpg')\n",
    "\n",
    "# Reordered positions\n",
    "auto.boxplot(column='mpg', by='color', ax=None, fontsize=12, rot=0, grid=True, \n",
    "             figsize=None, layout=None, return_type=None, \n",
    "             manage_xticks=False)\n",
    "plt.suptitle('Boxplot grouped by color (auto-adjust xticks)')\n",
    "plt.title('')\n",
    "plt.ylabel('mpg')"
   ]
  },
  {
   "cell_type": "markdown",
   "metadata": {},
   "source": [
    "### l) Autorange\n",
    "- https://github.com/matplotlib/matplotlib/issues/5331/\n",
    "- https://github.com/matplotlib/matplotlib/pull/5343"
   ]
  },
  {
   "cell_type": "code",
   "execution_count": 12,
   "metadata": {},
   "outputs": [
    {
     "data": {
      "text/plain": [
       "Text(0,0.5,'mpg')"
      ]
     },
     "execution_count": 12,
     "metadata": {},
     "output_type": "execute_result"
    },
    {
     "data": {
      "image/png": "[encoded data removed]",
      "text/plain": [
       "<matplotlib.figure.Figure at 0x7fdf8329fda0>"
      ]
     },
     "metadata": {},
     "output_type": "display_data"
    },
    {
     "data": {
      "image/png": "[encoded data removed]",
      "text/plain": [
       "<matplotlib.figure.Figure at 0x7fdf831ff7b8>"
      ]
     },
     "metadata": {},
     "output_type": "display_data"
    }
   ],
   "source": [
    "# Default\n",
    "auto.boxplot(column='mpg', by='color', ax=None, fontsize=12, rot=0, grid=True, \n",
    "             figsize=None, layout=None, return_type=None)\n",
    "plt.title('')\n",
    "plt.ylabel('mpg')\n",
    "\n",
    "# Reordered positions\n",
    "auto.boxplot(column='mpg', by='color', ax=None, fontsize=12, rot=0, grid=True, \n",
    "             figsize=None, layout=None, return_type=None, \n",
    "             autorange=True)\n",
    "plt.suptitle('Boxplot grouped by color (autorange)')\n",
    "plt.title('')\n",
    "plt.ylabel('mpg')"
   ]
  },
  {
   "cell_type": "markdown",
   "metadata": {},
   "source": [
    "### m) Mean line"
   ]
  },
  {
   "cell_type": "code",
   "execution_count": 13,
   "metadata": {},
   "outputs": [
    {
     "data": {
      "text/plain": [
       "Text(0,0.5,'mpg')"
      ]
     },
     "execution_count": 13,
     "metadata": {},
     "output_type": "execute_result"
    },
    {
     "data": {
      "image/png": "[encoded data removed]",
      "text/plain": [
       "<matplotlib.figure.Figure at 0x7fdf830a62b0>"
      ]
     },
     "metadata": {},
     "output_type": "display_data"
    },
    {
     "data": {
      "image/png": "[encoded data removed]",
      "text/plain": [
       "<matplotlib.figure.Figure at 0x7fdf83077828>"
      ]
     },
     "metadata": {},
     "output_type": "display_data"
    }
   ],
   "source": [
    "# Default\n",
    "auto.boxplot(column='mpg', by='color', ax=None, fontsize=12, rot=0, grid=True, \n",
    "             figsize=None, layout=None, return_type=None)\n",
    "plt.title('')\n",
    "plt.ylabel('mpg')\n",
    "\n",
    "# Reordered positions\n",
    "auto.boxplot(column='mpg', by='color', ax=None, fontsize=12, rot=0, grid=True, \n",
    "             figsize=None, layout=None, return_type=None, \n",
    "             meanline=True, showmeans=True)\n",
    "plt.suptitle('Boxplot grouped by color (different mean line)')\n",
    "plt.title('')\n",
    "plt.ylabel('mpg')"
   ]
  },
  {
   "cell_type": "markdown",
   "metadata": {},
   "source": [
    "### n) Zorder\n",
    "- https://stackoverflow.com/questions/46185471/matplotlib-filled-boxplot-and-point-display"
   ]
  },
  {
   "cell_type": "markdown",
   "metadata": {},
   "source": [
    "### Other properties\n",
    "- showcaps: bool, optional (True); \n",
    "    - Show the caps on the ends of whiskers.\n",
    "- showbox: bool, optional (True); \n",
    "    - Show the central box.\n",
    "- showfliers: bool, optional (True); \n",
    "    - Show the outliers beyond the caps.\n",
    "- showmeans: bool, optional (False); \n",
    "    - Show the arithmetic means.\n",
    "- capprops: dict, optional (None); \n",
    "    - Specifies the style of the caps.\n",
    "- boxprops: dict, optional (None); \n",
    "    - Specifies the style of the box.\n",
    "- whiskerprops: dict, optional (None); \n",
    "    - Specifies the style of the whiskers.\n",
    "- flierprops: dict, optional (None); \n",
    "    - Specifies the style of the fliers.\n",
    "- medianprops: dict, optional (None); \n",
    "    - Specifies the style of the median.\n",
    "- meanprops: dict, optional (None); \n",
    "    - Specifies the style of the mean."
   ]
  }
 ],
 "metadata": {
  "kernelspec": {
   "display_name": "Python 3",
   "language": "python",
   "name": "python3"
  },
  "language_info": {
   "codemirror_mode": {
    "name": "ipython",
    "version": 3
   },
   "file_extension": ".py",
   "mimetype": "text/x-python",
   "name": "python",
   "nbconvert_exporter": "python",
   "pygments_lexer": "ipython3",
   "version": "3.6.3"
  }
 },
 "nbformat": 4,
 "nbformat_minor": 2
}

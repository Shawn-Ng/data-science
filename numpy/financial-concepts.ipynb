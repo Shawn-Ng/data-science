{
 "cells": [
  {
   "cell_type": "markdown",
   "metadata": {},
   "source": [
    "# Configuration"
   ]
  },
  {
   "cell_type": "code",
   "execution_count": 1,
   "metadata": {
    "collapsed": true
   },
   "outputs": [],
   "source": [
    "import numpy as np"
   ]
  },
  {
   "cell_type": "markdown",
   "metadata": {},
   "source": [
    "# 1.1) Basic"
   ]
  },
  {
   "cell_type": "markdown",
   "metadata": {},
   "source": [
    "## Rate of return\n",
    "Investment = $10,000 at time = 1\n",
    "\n",
    "Investment = $11,000 at time = 2"
   ]
  },
  {
   "cell_type": "code",
   "execution_count": 2,
   "metadata": {},
   "outputs": [
    {
     "data": {
      "text/plain": [
       "0.1"
      ]
     },
     "execution_count": 2,
     "metadata": {},
     "output_type": "execute_result"
    }
   ],
   "source": [
    "initial_value = 10000\n",
    "final_value = 11000\n",
    "interest = (final_value-initial_value)/initial_value\n",
    "interest"
   ]
  },
  {
   "cell_type": "markdown",
   "metadata": {},
   "source": [
    "## Rate on investment\n",
    "Investment = $10,000 after 1 year with 10% interest rate"
   ]
  },
  {
   "cell_type": "code",
   "execution_count": 3,
   "metadata": {},
   "outputs": [
    {
     "data": {
      "text/plain": [
       "11000.0"
      ]
     },
     "execution_count": 3,
     "metadata": {},
     "output_type": "execute_result"
    }
   ],
   "source": [
    "lifespan = 1\n",
    "final_value = initial_value * (1+interest)**lifespan\n",
    "final_value"
   ]
  },
  {
   "cell_type": "markdown",
   "metadata": {},
   "source": [
    "## Discount Factors\n",
    "$$\n",
    "df = \\frac{1}{(1+r)^t} \\\\\n",
    "v = fv * df\n",
    "$$\n",
    "```python\n",
    "v = initial value of the investment\n",
    "fv = future value of the investment\n",
    "df = discount factor\n",
    "```"
   ]
  },
  {
   "cell_type": "markdown",
   "metadata": {},
   "source": [
    "## Compound interest"
   ]
  },
  {
   "cell_type": "code",
   "execution_count": 4,
   "metadata": {},
   "outputs": [
    {
     "data": {
      "text/plain": [
       "11038.128906249995"
      ]
     },
     "execution_count": 4,
     "metadata": {},
     "output_type": "execute_result"
    }
   ],
   "source": [
    "# If interest compound quarterly\n",
    "lifespan = 1\n",
    "frequency = 4\n",
    "final_value = initial_value * (1+interest/frequency)**(lifespan*frequency)\n",
    "final_value"
   ]
  },
  {
   "cell_type": "code",
   "execution_count": 5,
   "metadata": {},
   "outputs": [
    {
     "data": {
      "text/plain": [
       "11000.0"
      ]
     },
     "execution_count": 5,
     "metadata": {},
     "output_type": "execute_result"
    }
   ],
   "source": [
    "# If interest compound annually\n",
    "lifespan = 1\n",
    "frequency = 1\n",
    "final_value = initial_value * (1+interest/frequency)**(lifespan*frequency)\n",
    "final_value"
   ]
  },
  {
   "cell_type": "markdown",
   "metadata": {},
   "source": [
    "# 1.2) Present and Future Value"
   ]
  },
  {
   "cell_type": "markdown",
   "metadata": {},
   "source": [
    "## Present value\n",
    "Find present value of $10,000 received 3 years from now at a 1% inflation rate"
   ]
  },
  {
   "cell_type": "code",
   "execution_count": 6,
   "metadata": {},
   "outputs": [
    {
     "data": {
      "text/plain": [
       "-9705.9014792764428"
      ]
     },
     "execution_count": 6,
     "metadata": {},
     "output_type": "execute_result"
    }
   ],
   "source": [
    "np.pv(rate=0.01, nper=3, pmt=0, fv=10000)"
   ]
  },
  {
   "cell_type": "markdown",
   "metadata": {},
   "source": [
    "## Future value\n",
    "Find future value of $10000 invested for 3 years at 5% average annual rate of return"
   ]
  },
  {
   "cell_type": "code",
   "execution_count": 7,
   "metadata": {},
   "outputs": [
    {
     "data": {
      "text/plain": [
       "11576.250000000002"
      ]
     },
     "execution_count": 7,
     "metadata": {},
     "output_type": "execute_result"
    }
   ],
   "source": [
    "np.fv(rate=0.05, nper=3, pmt=0, pv=-10000)"
   ]
  },
  {
   "cell_type": "markdown",
   "metadata": {
    "collapsed": true
   },
   "source": [
    "# 1.3) Net Present Value (NPV) and Cash Flows\n",
    "- Cash flows are a series of gains/losses from an investment over time\n",
    "- NPV is the sum of all discounted cash flows\n",
    "- Simple cash flow valuation measure that doesn't allow for the comparisonof different sized projects/lengths\n",
    "\n",
    "$npv = \\sum_{t=1}^T \\frac{C_t}{(1+r)^t} - C_0$"
   ]
  },
  {
   "cell_type": "code",
   "execution_count": 8,
   "metadata": {},
   "outputs": [
    {
     "data": {
      "text/plain": [
       "407.66834957071546"
      ]
     },
     "execution_count": 8,
     "metadata": {},
     "output_type": "execute_result"
    }
   ],
   "source": [
    "# Investment for project 1 at discount rate of 3%\n",
    "cashflow = np.array([-100,100,125,150,175])\n",
    "net_present_value = np.npv(rate=0.03, values=cashflow)\n",
    "net_present_value"
   ]
  },
  {
   "cell_type": "code",
   "execution_count": 9,
   "metadata": {},
   "outputs": [
    {
     "data": {
      "text/plain": [
       "552.40223397273985"
      ]
     },
     "execution_count": 9,
     "metadata": {},
     "output_type": "execute_result"
    }
   ],
   "source": [
    "# Investment for project 2 at discount rate of 3%\n",
    "cashflow = np.array([100,100,-100,200,300])\n",
    "net_present_value = np.npv(rate=0.03, values=cashflow)\n",
    "net_present_value"
   ]
  },
  {
   "cell_type": "markdown",
   "metadata": {},
   "source": [
    "# 2.1) Internal rate of return (IRR)\n",
    "- Used to compare projects pf different sizes and lengths\n",
    "\n",
    "$npv = \\sum_{t=1}^T \\frac{C_t}{(1+IRR)^t} - C_0 = 0$"
   ]
  },
  {
   "cell_type": "code",
   "execution_count": 10,
   "metadata": {},
   "outputs": [
    {
     "data": {
      "text/plain": [
       "1.1130202692195432"
      ]
     },
     "execution_count": 10,
     "metadata": {},
     "output_type": "execute_result"
    }
   ],
   "source": [
    "# IRR for project 1\n",
    "cashflow = np.array([-100,100,125,150,175])\n",
    "np.irr(cashflow)"
   ]
  },
  {
   "cell_type": "code",
   "execution_count": null,
   "metadata": {
    "collapsed": true
   },
   "outputs": [],
   "source": []
  }
 ],
 "metadata": {
  "kernelspec": {
   "display_name": "Python 3",
   "language": "python",
   "name": "python3"
  },
  "language_info": {
   "codemirror_mode": {
    "name": "ipython",
    "version": 3
   },
   "file_extension": ".py",
   "mimetype": "text/x-python",
   "name": "python",
   "nbconvert_exporter": "python",
   "pygments_lexer": "ipython3",
   "version": "3.6.3"
  }
 },
 "nbformat": 4,
 "nbformat_minor": 2
}

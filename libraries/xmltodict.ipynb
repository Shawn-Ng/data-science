{
 "cells": [
  {
   "cell_type": "code",
   "execution_count": 1,
   "metadata": {
    "collapsed": true
   },
   "outputs": [],
   "source": [
    "import json\n",
    "import xmltodict"
   ]
  },
  {
   "cell_type": "code",
   "execution_count": 2,
   "metadata": {
    "collapsed": true
   },
   "outputs": [],
   "source": [
    "test = \"\"\"\n",
    "...  <mydocument has=\"an attribute\">\n",
    "...    <and>\n",
    "...      <many>elements</many>\n",
    "...      <many>more elements</many>\n",
    "...    </and>\n",
    "...    <plus a=\"complex\">\n",
    "...      element as well\n",
    "...    </plus>\n",
    "...  </mydocument>\n",
    "...  \"\"\""
   ]
  },
  {
   "cell_type": "code",
   "execution_count": 3,
   "metadata": {},
   "outputs": [
    {
     "name": "stdout",
     "output_type": "stream",
     "text": [
      "{\n",
      "    \"mydocument\": {\n",
      "        \"@has\": \"an attribute\",\n",
      "        \"and\": {\n",
      "            \"many\": [\n",
      "                \"elements\",\n",
      "                \"more elements\"\n",
      "            ]\n",
      "        },\n",
      "        \"plus\": {\n",
      "            \"@a\": \"complex\",\n",
      "            \"#text\": \"element as well\"\n",
      "        }\n",
      "    }\n",
      "}\n"
     ]
    }
   ],
   "source": [
    "print(json.dumps(xmltodict.parse(test), indent=4))"
   ]
  },
  {
   "cell_type": "code",
   "execution_count": null,
   "metadata": {
    "collapsed": true
   },
   "outputs": [],
   "source": []
  }
 ],
 "metadata": {
  "kernelspec": {
   "display_name": "Python 3",
   "language": "python",
   "name": "python3"
  },
  "language_info": {
   "codemirror_mode": {
    "name": "ipython",
    "version": 3
   },
   "file_extension": ".py",
   "mimetype": "text/x-python",
   "name": "python",
   "nbconvert_exporter": "python",
   "pygments_lexer": "ipython3",
   "version": "3.6.3"
  }
 },
 "nbformat": 4,
 "nbformat_minor": 2
}

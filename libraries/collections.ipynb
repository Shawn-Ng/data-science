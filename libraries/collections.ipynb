{
 "cells": [
  {
   "cell_type": "markdown",
   "metadata": {},
   "source": [
    "# Configuration"
   ]
  },
  {
   "cell_type": "code",
   "execution_count": 1,
   "metadata": {
    "collapsed": true
   },
   "outputs": [],
   "source": [
    "import collections"
   ]
  },
  {
   "cell_type": "markdown",
   "metadata": {},
   "source": [
    "## ChainMap\n",
    "https://docs.python.org/3.6/library/collections.html#collections.ChainMap"
   ]
  },
  {
   "cell_type": "code",
   "execution_count": 2,
   "metadata": {},
   "outputs": [
    {
     "name": "stdout",
     "output_type": "stream",
     "text": [
      "ChainMap({'a': 1, 'b': 2}, {'b': 10, 'c': 11})\n",
      "========== ChainMap's content ==========\n",
      "c 11\n",
      "a 1\n",
      "b 2\n"
     ]
    }
   ],
   "source": [
    "x = dict(a=1,b=2)\n",
    "y = dict(b=10,c=11)\n",
    "z = collections.ChainMap(x,y)\n",
    "print(z)\n",
    "\n",
    "print(\"========== ChainMap's content ==========\")\n",
    "for key,value in z.items():\n",
    "    print(key,value)"
   ]
  },
  {
   "cell_type": "markdown",
   "metadata": {},
   "source": [
    "### Reordering"
   ]
  },
  {
   "cell_type": "code",
   "execution_count": 3,
   "metadata": {},
   "outputs": [
    {
     "name": "stdout",
     "output_type": "stream",
     "text": [
      "2\n",
      "[{'a': 1, 'b': 2}, {'b': 10, 'c': 11}]\n",
      "10\n",
      "ChainMap({'b': 10, 'c': 11}, {'a': 1, 'b': 2})\n"
     ]
    }
   ],
   "source": [
    "print(z['b'])\n",
    "print(z.maps)\n",
    "z.maps = list(reversed(z.maps))\n",
    "print(z['b'])\n",
    "print(z)"
   ]
  },
  {
   "cell_type": "markdown",
   "metadata": {},
   "source": [
    "## OrderedDict\n",
    "https://docs.python.org/3/library/collections.html#ordereddict-objects"
   ]
  },
  {
   "cell_type": "code",
   "execution_count": 4,
   "metadata": {},
   "outputs": [
    {
     "name": "stdout",
     "output_type": "stream",
     "text": [
      "{'b': 2, 'c': 3, 'a': 1}\n",
      "========== Dictionary order ==========\n",
      "b: 2\n",
      "c: 3\n",
      "a: 1\n",
      "========== Sorted dictionary order ==========\n",
      "a: 1\n",
      "b: 2\n",
      "c: 3\n"
     ]
    }
   ],
   "source": [
    "x = dict(b=2,c=3,a=1)\n",
    "print(x)\n",
    "\n",
    "print(\"========== Dictionary order ==========\")\n",
    "for k,v in x.items():\n",
    "    print(k+\":\",v)\n",
    "    \n",
    "print(\"========== Sorted dictionary order ==========\")\n",
    "for k,v in sorted(x.items()):\n",
    "    print(k+\":\",v)"
   ]
  },
  {
   "cell_type": "code",
   "execution_count": 5,
   "metadata": {},
   "outputs": [
    {
     "name": "stdout",
     "output_type": "stream",
     "text": [
      "OrderedDict([('b', 2), ('c', 3), ('a', 1)])\n",
      "========== Dictionary order ==========\n",
      "b: 2\n",
      "c: 3\n",
      "a: 1\n",
      "========== Sorted dictionary order ==========\n",
      "a: 1\n",
      "b: 2\n",
      "c: 3\n"
     ]
    }
   ],
   "source": [
    "x = collections.OrderedDict(b=2,c=3,a=1)\n",
    "print(x)\n",
    "\n",
    "\n",
    "print(\"========== Dictionary order ==========\")\n",
    "for k,v in x.items():\n",
    "    print(k+\":\",v)\n",
    "\n",
    "print(\"========== Sorted dictionary order ==========\")\n",
    "for k,v in sorted(x.items()):\n",
    "    print(k+\":\",v)"
   ]
  },
  {
   "cell_type": "code",
   "execution_count": null,
   "metadata": {},
   "outputs": [],
   "source": []
  }
 ],
 "metadata": {
  "kernelspec": {
   "display_name": "Python 3",
   "language": "python",
   "name": "python3"
  },
  "language_info": {
   "codemirror_mode": {
    "name": "ipython",
    "version": 3
   },
   "file_extension": ".py",
   "mimetype": "text/x-python",
   "name": "python",
   "nbconvert_exporter": "python",
   "pygments_lexer": "ipython3",
   "version": "3.6.3"
  }
 },
 "nbformat": 4,
 "nbformat_minor": 2
}

{
 "cells": [
  {
   "cell_type": "markdown",
   "metadata": {},
   "source": [
    "# Configuration"
   ]
  },
  {
   "cell_type": "code",
   "execution_count": 1,
   "metadata": {
    "collapsed": true
   },
   "outputs": [],
   "source": [
    "import os\n",
    "import time\n",
    "import datetime"
   ]
  },
  {
   "cell_type": "markdown",
   "metadata": {},
   "source": [
    "# Python Standarad Library: time\n",
    "https://docs.python.org/3/library/time.html#module-time"
   ]
  },
  {
   "cell_type": "code",
   "execution_count": 2,
   "metadata": {},
   "outputs": [
    {
     "data": {
      "text/plain": [
       "'Mon Feb 26 18:16:53 2018'"
      ]
     },
     "execution_count": 2,
     "metadata": {},
     "output_type": "execute_result"
    }
   ],
   "source": [
    "# https://docs.python.org/3/library/time.html#time.asctime\n",
    "time.asctime()"
   ]
  },
  {
   "cell_type": "code",
   "execution_count": 3,
   "metadata": {},
   "outputs": [
    {
     "data": {
      "text/plain": [
       "'Mon Feb 26 18:16:53 2018'"
      ]
     },
     "execution_count": 3,
     "metadata": {},
     "output_type": "execute_result"
    }
   ],
   "source": [
    "# https://docs.python.org/3/library/time.html#time.ctime\n",
    "# Equivalent to asctime(localtime(secs))\n",
    "time.ctime()"
   ]
  },
  {
   "cell_type": "code",
   "execution_count": 4,
   "metadata": {},
   "outputs": [
    {
     "data": {
      "text/plain": [
       "time.struct_time(tm_year=2018, tm_mon=2, tm_mday=26, tm_hour=10, tm_min=16, tm_sec=53, tm_wday=0, tm_yday=57, tm_isdst=0)"
      ]
     },
     "execution_count": 4,
     "metadata": {},
     "output_type": "execute_result"
    }
   ],
   "source": [
    "# https://docs.python.org/3/library/time.html#time.gmtime\n",
    "# UTC time\n",
    "time.gmtime()"
   ]
  },
  {
   "cell_type": "code",
   "execution_count": 5,
   "metadata": {},
   "outputs": [
    {
     "data": {
      "text/plain": [
       "time.struct_time(tm_year=2018, tm_mon=2, tm_mday=26, tm_hour=18, tm_min=16, tm_sec=53, tm_wday=0, tm_yday=57, tm_isdst=0)"
      ]
     },
     "execution_count": 5,
     "metadata": {},
     "output_type": "execute_result"
    }
   ],
   "source": [
    "# https://docs.python.org/3/library/time.html#time.localtime\n",
    "time.localtime()"
   ]
  },
  {
   "cell_type": "code",
   "execution_count": 6,
   "metadata": {},
   "outputs": [
    {
     "data": {
      "text/plain": [
       "470392.335891477"
      ]
     },
     "execution_count": 6,
     "metadata": {},
     "output_type": "execute_result"
    }
   ],
   "source": [
    "# https://docs.python.org/3/library/time.html#time.monotonic\n",
    "# Return the value (in fractional seconds) of a monotonic clock, i.e. a clock that cannot go backwards.\n",
    "time.monotonic()"
   ]
  },
  {
   "cell_type": "code",
   "execution_count": 7,
   "metadata": {},
   "outputs": [
    {
     "data": {
      "text/plain": [
       "'Mon'"
      ]
     },
     "execution_count": 7,
     "metadata": {},
     "output_type": "execute_result"
    }
   ],
   "source": [
    "# https://docs.python.org/3/library/time.html#time.strftime\n",
    "# Convert time to string\n",
    "time.strftime(\"%a\", time.localtime())"
   ]
  },
  {
   "cell_type": "code",
   "execution_count": 8,
   "metadata": {
    "scrolled": true
   },
   "outputs": [
    {
     "name": "stdout",
     "output_type": "stream",
     "text": [
      "========== Local time ==========:\n",
      "%a: Mon\n",
      "%A: Monday\n",
      "%b: Feb\n",
      "%B: February\n",
      "%c: Mon Feb 26 18:16:53 2018\n",
      "%d: 26\n",
      "%H: 18\n",
      "%I: 06\n",
      "%j: 057\n",
      "%m: 02\n",
      "%M: 16\n",
      "%p: PM\n",
      "%S: 53\n",
      "%U: 08\n",
      "%w: 1\n",
      "%W: 09\n",
      "%x: 02/26/18\n",
      "%X: 18:16:53\n",
      "%y: 18\n",
      "%Y: 2018\n",
      "%z: +0800\n",
      "%Z: +08\n",
      "%%: %\n",
      "========== GM time ==========:\n",
      "%a: Mon\n",
      "%A: Monday\n",
      "%b: Feb\n",
      "%B: February\n",
      "%c: Mon Feb 26 10:16:53 2018\n",
      "%d: 26\n",
      "%H: 10\n",
      "%I: 10\n",
      "%j: 057\n",
      "%m: 02\n",
      "%M: 16\n",
      "%p: AM\n",
      "%S: 53\n",
      "%U: 08\n",
      "%w: 1\n",
      "%W: 09\n",
      "%x: 02/26/18\n",
      "%X: 10:16:53\n",
      "%y: 18\n",
      "%Y: 2018\n",
      "%z: +0000\n",
      "%Z: GMT\n",
      "%%: %\n"
     ]
    }
   ],
   "source": [
    "def strftime_format(struct_time):\n",
    "    directives = ['%a','%A','%b','%B','%c','%d','%H','%I','%j','%m','%M',\n",
    "                  '%p','%S','%U','%w','%W','%x','%X','%y','%Y','%z','%Z','%%']\n",
    "    for directive in directives:\n",
    "        print(directive+\":\",time.strftime(directive, struct_time))\n",
    "\n",
    "print('========== Local time ==========:')\n",
    "strftime_format(time.localtime())\n",
    "print('========== GM time ==========:')\n",
    "strftime_format(time.gmtime())"
   ]
  },
  {
   "cell_type": "code",
   "execution_count": 9,
   "metadata": {},
   "outputs": [
    {
     "name": "stdout",
     "output_type": "stream",
     "text": [
      "30 Nov 00:\n",
      " time.struct_time(tm_year=2000, tm_mon=11, tm_mday=30, tm_hour=0, tm_min=0, tm_sec=0, tm_wday=3, tm_yday=335, tm_isdst=-1)\n",
      "30 11 00:\n",
      " time.struct_time(tm_year=2000, tm_mon=11, tm_mday=30, tm_hour=0, tm_min=0, tm_sec=0, tm_wday=3, tm_yday=335, tm_isdst=-1)\n",
      "30-11-00:\n",
      " time.struct_time(tm_year=2000, tm_mon=11, tm_mday=30, tm_hour=0, tm_min=0, tm_sec=0, tm_wday=3, tm_yday=335, tm_isdst=-1)\n",
      "30/11/00:\n",
      " time.struct_time(tm_year=2000, tm_mon=11, tm_mday=30, tm_hour=0, tm_min=0, tm_sec=0, tm_wday=3, tm_yday=335, tm_isdst=-1)\n"
     ]
    }
   ],
   "source": [
    "# https://docs.python.org/3/library/time.html#time.strptime\n",
    "# Parse a string representing a time according to a format.\n",
    "print(\"30 Nov 00:\\n\", time.strptime(\"30 Nov 00\", \"%d %b %y\"))\n",
    "print(\"30 11 00:\\n\", time.strptime(\"30 11 00\", \"%d %m %y\"))\n",
    "print(\"30-11-00:\\n\", time.strptime(\"30-11-00\", \"%d-%m-%y\"))\n",
    "print(\"30/11/00:\\n\", time.strptime(\"30/11/00\", \"%d/%m/%y\"))"
   ]
  },
  {
   "cell_type": "code",
   "execution_count": 10,
   "metadata": {},
   "outputs": [
    {
     "data": {
      "text/plain": [
       "('+08', '+08')"
      ]
     },
     "execution_count": 10,
     "metadata": {},
     "output_type": "execute_result"
    }
   ],
   "source": [
    "# View system timezone\n",
    "time.tzname"
   ]
  },
  {
   "cell_type": "markdown",
   "metadata": {},
   "source": [
    "# Python Standard Library: datetime\n",
    "https://docs.python.org/3/library/datetime.html"
   ]
  },
  {
   "cell_type": "code",
   "execution_count": 11,
   "metadata": {},
   "outputs": [
    {
     "name": "stdout",
     "output_type": "stream",
     "text": [
      "days: 3318\n",
      "max: 999999999 days, 23:59:59.999999\n",
      "microseconds: 0\n",
      "min: -999999999 days, 0:00:00\n",
      "resolution: 0:00:00.000001\n",
      "seconds: 0\n",
      "total_seconds: <built-in method total_seconds of datetime.timedelta object at 0x7fe72045ec10>\n"
     ]
    }
   ],
   "source": [
    "t0 = datetime.date(2008,1,1)\n",
    "t1 = datetime.date(2017,1,31)\n",
    "time_diff = t1-t0\n",
    "\n",
    "def delta_methods(time_diff):\n",
    "    methods = ['days','max','microseconds','min','resolution','seconds','total_seconds']\n",
    "    for method in methods:\n",
    "        print(method+\":\", getattr(time_diff, method))\n",
    "\n",
    "delta_methods(time_diff)"
   ]
  }
 ],
 "metadata": {
  "kernelspec": {
   "display_name": "Python 3",
   "language": "python",
   "name": "python3"
  },
  "language_info": {
   "codemirror_mode": {
    "name": "ipython",
    "version": 3
   },
   "file_extension": ".py",
   "mimetype": "text/x-python",
   "name": "python",
   "nbconvert_exporter": "python",
   "pygments_lexer": "ipython3",
   "version": "3.6.3"
  }
 },
 "nbformat": 4,
 "nbformat_minor": 2
}

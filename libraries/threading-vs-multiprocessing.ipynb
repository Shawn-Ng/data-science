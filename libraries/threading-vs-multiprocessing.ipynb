{
 "cells": [
  {
   "cell_type": "markdown",
   "metadata": {},
   "source": [
    "# Threading vs Multiprocessing\n",
    "https://medium.com/practo-engineering/threading-vs-multiprocessing-in-python-7b57f224eadb"
   ]
  },
  {
   "cell_type": "code",
   "execution_count": 1,
   "metadata": {
    "collapsed": true
   },
   "outputs": [],
   "source": [
    "import random\n",
    "from threading import Thread\n",
    "from multiprocessing import Process"
   ]
  },
  {
   "cell_type": "code",
   "execution_count": 2,
   "metadata": {
    "collapsed": true
   },
   "outputs": [],
   "source": [
    "size = 10000000\n",
    "threads = 4\n",
    "result = []\n",
    "for i in range(0, threads):\n",
    "    result.append([])\n",
    "\n",
    "\n",
    "def func(count, result):\n",
    "    for i in range(count):\n",
    "        result.append(random.random())\n",
    "\n",
    "def simple():\n",
    "    for i in range(0, threads):\n",
    "        func(size, result[i])\n",
    "\n",
    "def multithreaded():\n",
    "    jobs = []\n",
    "    for i in range(0, threads):\n",
    "        thread = Thread(target=func, args=(size, result[i]))\n",
    "        jobs.append(thread)\n",
    "    # Start the threads\n",
    "    for j in jobs:\n",
    "        j.start() \n",
    "    # Ensure all of the threads have finished\n",
    "    for j in jobs:\n",
    "        j.join()\n",
    "\n",
    "def multiprocessed():\n",
    "    processes = []\n",
    "    for i in range(0, threads):\n",
    "        p = Process(target=func, args=(size, result[i]))\n",
    "        processes.append(p)\n",
    "    # Start the processes\n",
    "    for p in processes:\n",
    "        p.start()\n",
    "    # Ensure all processes have finished execution\n",
    "    for p in processes:\n",
    "        p.join()"
   ]
  },
  {
   "cell_type": "code",
   "execution_count": 3,
   "metadata": {},
   "outputs": [
    {
     "name": "stdout",
     "output_type": "stream",
     "text": [
      "CPU times: user 4.93 s, sys: 200 ms, total: 5.13 s\n",
      "Wall time: 5.11 s\n"
     ]
    }
   ],
   "source": [
    "%%time\n",
    "simple()"
   ]
  },
  {
   "cell_type": "code",
   "execution_count": 4,
   "metadata": {},
   "outputs": [
    {
     "name": "stdout",
     "output_type": "stream",
     "text": [
      "CPU times: user 5.37 s, sys: 232 ms, total: 5.6 s\n",
      "Wall time: 5.58 s\n"
     ]
    }
   ],
   "source": [
    "%%time\n",
    "multithreaded()"
   ]
  },
  {
   "cell_type": "code",
   "execution_count": 5,
   "metadata": {},
   "outputs": [
    {
     "name": "stdout",
     "output_type": "stream",
     "text": [
      "CPU times: user 4 ms, sys: 88 ms, total: 92 ms\n",
      "Wall time: 2.16 s\n"
     ]
    }
   ],
   "source": [
    "%%time\n",
    "multiprocessed()"
   ]
  }
 ],
 "metadata": {
  "kernelspec": {
   "display_name": "Python 3",
   "language": "python",
   "name": "python3"
  },
  "language_info": {
   "codemirror_mode": {
    "name": "ipython",
    "version": 3
   },
   "file_extension": ".py",
   "mimetype": "text/x-python",
   "name": "python",
   "nbconvert_exporter": "python",
   "pygments_lexer": "ipython3",
   "version": "3.6.3"
  }
 },
 "nbformat": 4,
 "nbformat_minor": 2
}

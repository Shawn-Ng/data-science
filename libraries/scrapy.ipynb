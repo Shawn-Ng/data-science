{
 "cells": [
  {
   "cell_type": "code",
   "execution_count": 1,
   "metadata": {
    "collapsed": true
   },
   "outputs": [],
   "source": [
    "from scrapy import Spider"
   ]
  },
  {
   "cell_type": "code",
   "execution_count": 2,
   "metadata": {},
   "outputs": [
    {
     "name": "stdout",
     "output_type": "stream",
     "text": [
      "['__class__', '__delattr__', '__dict__', '__dir__', '__doc__', '__eq__', '__format__', '__ge__', '__getattribute__', '__gt__', '__hash__', '__init__', '__init_subclass__', '__le__', '__lt__', '__module__', '__ne__', '__new__', '__reduce__', '__reduce_ex__', '__repr__', '__setattr__', '__sizeof__', '__slots__', '__str__', '__subclasshook__', '__weakref__', '_set_crawler', 'close', 'custom_settings', 'from_crawler', 'handles_request', 'log', 'logger', 'make_requests_from_url', 'name', 'parse', 'set_crawler', 'start_requests', 'update_settings']\n"
     ]
    }
   ],
   "source": [
    "print(dir(Spider))"
   ]
  },
  {
   "cell_type": "code",
   "execution_count": 3,
   "metadata": {},
   "outputs": [
    {
     "data": {
      "text/plain": [
       "mappingproxy({'__dict__': <attribute '__dict__' of 'Spider' objects>,\n",
       "              '__doc__': 'Base class for scrapy spiders. All spiders must inherit from this\\n    class.\\n    ',\n",
       "              '__init__': <function scrapy.spiders.Spider.__init__>,\n",
       "              '__module__': 'scrapy.spiders',\n",
       "              '__repr__': <function scrapy.spiders.Spider.__str__>,\n",
       "              '__str__': <function scrapy.spiders.Spider.__str__>,\n",
       "              '__weakref__': <attribute '__weakref__' of 'Spider' objects>,\n",
       "              '_set_crawler': <function scrapy.spiders.Spider._set_crawler>,\n",
       "              'close': <staticmethod at 0x7f41bdd21be0>,\n",
       "              'custom_settings': None,\n",
       "              'from_crawler': <classmethod at 0x7f41dc48f470>,\n",
       "              'handles_request': <classmethod at 0x7f41dc1d17f0>,\n",
       "              'log': <function scrapy.spiders.Spider.log>,\n",
       "              'logger': <property at 0x7f41dc1d8098>,\n",
       "              'make_requests_from_url': <function scrapy.spiders.Spider.make_requests_from_url>,\n",
       "              'name': None,\n",
       "              'parse': <function scrapy.spiders.Spider.parse>,\n",
       "              'set_crawler': <function scrapy.spiders.Spider.set_crawler>,\n",
       "              'start_requests': <function scrapy.spiders.Spider.start_requests>,\n",
       "              'update_settings': <classmethod at 0x7f41dc1d17b8>})"
      ]
     },
     "execution_count": 3,
     "metadata": {},
     "output_type": "execute_result"
    }
   ],
   "source": [
    "Spider.__dict__"
   ]
  },
  {
   "cell_type": "code",
   "execution_count": 4,
   "metadata": {},
   "outputs": [
    {
     "data": {
      "text/plain": [
       "<method '__dir__' of 'object' objects>"
      ]
     },
     "execution_count": 4,
     "metadata": {},
     "output_type": "execute_result"
    }
   ],
   "source": [
    "Spider.__dir__"
   ]
  },
  {
   "cell_type": "code",
   "execution_count": null,
   "metadata": {
    "collapsed": true
   },
   "outputs": [],
   "source": []
  }
 ],
 "metadata": {
  "kernelspec": {
   "display_name": "Python 3",
   "language": "python",
   "name": "python3"
  },
  "language_info": {
   "codemirror_mode": {
    "name": "ipython",
    "version": 3
   },
   "file_extension": ".py",
   "mimetype": "text/x-python",
   "name": "python",
   "nbconvert_exporter": "python",
   "pygments_lexer": "ipython3",
   "version": "3.6.3"
  }
 },
 "nbformat": 4,
 "nbformat_minor": 2
}

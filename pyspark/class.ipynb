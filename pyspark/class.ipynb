{
 "cells": [
  {
   "cell_type": "markdown",
   "metadata": {},
   "source": [
    "# Configuration\n",
    "\n",
    "- https://towardsdatascience.com/how-to-get-started-with-pyspark-1adc142456ec"
   ]
  },
  {
   "cell_type": "code",
   "execution_count": 1,
   "metadata": {},
   "outputs": [],
   "source": [
    "# Most straightforward method\n",
    "import pyspark\n",
    "import pandas as pd"
   ]
  },
  {
   "cell_type": "code",
   "execution_count": 2,
   "metadata": {},
   "outputs": [],
   "source": [
    "spark = pyspark.sql.SparkSession.builder \\\n",
    "        .master('local') \\\n",
    "        .appName('Spark Datatype') \\\n",
    "        .getOrCreate()"
   ]
  },
  {
   "cell_type": "markdown",
   "metadata": {},
   "source": [
    "# Import data"
   ]
  },
  {
   "cell_type": "code",
   "execution_count": 3,
   "metadata": {},
   "outputs": [],
   "source": [
    "auto = spark.read.csv('auto-mpg.csv', header=True)"
   ]
  },
  {
   "cell_type": "code",
   "execution_count": 4,
   "metadata": {},
   "outputs": [
    {
     "data": {
      "text/plain": [
       "pyspark.sql.dataframe.DataFrame"
      ]
     },
     "execution_count": 4,
     "metadata": {},
     "output_type": "execute_result"
    }
   ],
   "source": [
    "type(auto)"
   ]
  },
  {
   "cell_type": "code",
   "execution_count": 5,
   "metadata": {
    "scrolled": true
   },
   "outputs": [
    {
     "name": "stdout",
     "output_type": "stream",
     "text": [
      "+----+---+-----+---+------+-----+---+------+--------------------+-----+------------------+------+\n",
      "| mpg|cyl|displ| hp|weight|accel| yr|origin|                name|color|              size|marker|\n",
      "+----+---+-----+---+------+-----+---+------+--------------------+-----+------------------+------+\n",
      "|18.0|  6|250.0| 88|  3139| 14.5| 71|    US|        ford mustang|  red|27.370336111111108|     o|\n",
      "| 9.0|  8|304.0|193|  4732| 18.5| 70|    US|            hi 1200d|green|62.199511111111114|     o|\n",
      "|36.1|  4| 91.0| 60|  1800| 16.4| 78|  Asia|    honda civic cvcc| blue|               9.0|     x|\n",
      "|18.5|  6|250.0| 98|  3525| 19.0| 77|    US|        ford granada|  red|         34.515625|     o|\n",
      "|34.3|  4| 97.0| 78|  2188| 15.8| 80|Europe|           audi 4000| blue|13.298177777777777|     s|\n",
      "|32.9|  4|119.0|100|  2615| 14.8| 81|  Asia|        datsun 200sx| blue|18.995069444444447|     x|\n",
      "|32.2|  4|108.0| 75|  2265| 15.2| 80|  Asia|      toyota corolla| blue|         14.250625|     x|\n",
      "|22.0|  4|121.0| 76|  2511| 18.0| 72|Europe| volkswagen 411 (sw)| blue|17.514224999999996|     s|\n",
      "|15.0|  8|302.0|130|  4295| 14.9| 77|    US|mercury cougar br...|green| 51.24173611111111|     o|\n",
      "|17.0|  8|302.0|140|  3449| 10.5| 70|    US|         ford torino|green| 33.04333611111111|     o|\n",
      "+----+---+-----+---+------+-----+---+------+--------------------+-----+------------------+------+\n",
      "\n"
     ]
    }
   ],
   "source": [
    "auto.limit(10).show()"
   ]
  },
  {
   "cell_type": "code",
   "execution_count": 6,
   "metadata": {
    "scrolled": true
   },
   "outputs": [
    {
     "data": {
      "text/html": [
       "<div>\n",
       "<style scoped>\n",
       "    .dataframe tbody tr th:only-of-type {\n",
       "        vertical-align: middle;\n",
       "    }\n",
       "\n",
       "    .dataframe tbody tr th {\n",
       "        vertical-align: top;\n",
       "    }\n",
       "\n",
       "    .dataframe thead th {\n",
       "        text-align: right;\n",
       "    }\n",
       "</style>\n",
       "<table border=\"1\" class=\"dataframe\">\n",
       "  <thead>\n",
       "    <tr style=\"text-align: right;\">\n",
       "      <th></th>\n",
       "      <th>mpg</th>\n",
       "      <th>cyl</th>\n",
       "      <th>displ</th>\n",
       "      <th>hp</th>\n",
       "      <th>weight</th>\n",
       "      <th>accel</th>\n",
       "      <th>yr</th>\n",
       "      <th>origin</th>\n",
       "      <th>name</th>\n",
       "      <th>color</th>\n",
       "      <th>size</th>\n",
       "      <th>marker</th>\n",
       "    </tr>\n",
       "  </thead>\n",
       "  <tbody>\n",
       "    <tr>\n",
       "      <th>0</th>\n",
       "      <td>18.0</td>\n",
       "      <td>6</td>\n",
       "      <td>250.0</td>\n",
       "      <td>88</td>\n",
       "      <td>3139</td>\n",
       "      <td>14.5</td>\n",
       "      <td>71</td>\n",
       "      <td>US</td>\n",
       "      <td>ford mustang</td>\n",
       "      <td>red</td>\n",
       "      <td>27.370336111111108</td>\n",
       "      <td>o</td>\n",
       "    </tr>\n",
       "    <tr>\n",
       "      <th>1</th>\n",
       "      <td>9.0</td>\n",
       "      <td>8</td>\n",
       "      <td>304.0</td>\n",
       "      <td>193</td>\n",
       "      <td>4732</td>\n",
       "      <td>18.5</td>\n",
       "      <td>70</td>\n",
       "      <td>US</td>\n",
       "      <td>hi 1200d</td>\n",
       "      <td>green</td>\n",
       "      <td>62.199511111111114</td>\n",
       "      <td>o</td>\n",
       "    </tr>\n",
       "    <tr>\n",
       "      <th>2</th>\n",
       "      <td>36.1</td>\n",
       "      <td>4</td>\n",
       "      <td>91.0</td>\n",
       "      <td>60</td>\n",
       "      <td>1800</td>\n",
       "      <td>16.4</td>\n",
       "      <td>78</td>\n",
       "      <td>Asia</td>\n",
       "      <td>honda civic cvcc</td>\n",
       "      <td>blue</td>\n",
       "      <td>9.0</td>\n",
       "      <td>x</td>\n",
       "    </tr>\n",
       "    <tr>\n",
       "      <th>3</th>\n",
       "      <td>18.5</td>\n",
       "      <td>6</td>\n",
       "      <td>250.0</td>\n",
       "      <td>98</td>\n",
       "      <td>3525</td>\n",
       "      <td>19.0</td>\n",
       "      <td>77</td>\n",
       "      <td>US</td>\n",
       "      <td>ford granada</td>\n",
       "      <td>red</td>\n",
       "      <td>34.515625</td>\n",
       "      <td>o</td>\n",
       "    </tr>\n",
       "    <tr>\n",
       "      <th>4</th>\n",
       "      <td>34.3</td>\n",
       "      <td>4</td>\n",
       "      <td>97.0</td>\n",
       "      <td>78</td>\n",
       "      <td>2188</td>\n",
       "      <td>15.8</td>\n",
       "      <td>80</td>\n",
       "      <td>Europe</td>\n",
       "      <td>audi 4000</td>\n",
       "      <td>blue</td>\n",
       "      <td>13.298177777777777</td>\n",
       "      <td>s</td>\n",
       "    </tr>\n",
       "    <tr>\n",
       "      <th>5</th>\n",
       "      <td>32.9</td>\n",
       "      <td>4</td>\n",
       "      <td>119.0</td>\n",
       "      <td>100</td>\n",
       "      <td>2615</td>\n",
       "      <td>14.8</td>\n",
       "      <td>81</td>\n",
       "      <td>Asia</td>\n",
       "      <td>datsun 200sx</td>\n",
       "      <td>blue</td>\n",
       "      <td>18.995069444444447</td>\n",
       "      <td>x</td>\n",
       "    </tr>\n",
       "    <tr>\n",
       "      <th>6</th>\n",
       "      <td>32.2</td>\n",
       "      <td>4</td>\n",
       "      <td>108.0</td>\n",
       "      <td>75</td>\n",
       "      <td>2265</td>\n",
       "      <td>15.2</td>\n",
       "      <td>80</td>\n",
       "      <td>Asia</td>\n",
       "      <td>toyota corolla</td>\n",
       "      <td>blue</td>\n",
       "      <td>14.250625</td>\n",
       "      <td>x</td>\n",
       "    </tr>\n",
       "    <tr>\n",
       "      <th>7</th>\n",
       "      <td>22.0</td>\n",
       "      <td>4</td>\n",
       "      <td>121.0</td>\n",
       "      <td>76</td>\n",
       "      <td>2511</td>\n",
       "      <td>18.0</td>\n",
       "      <td>72</td>\n",
       "      <td>Europe</td>\n",
       "      <td>volkswagen 411 (sw)</td>\n",
       "      <td>blue</td>\n",
       "      <td>17.514224999999996</td>\n",
       "      <td>s</td>\n",
       "    </tr>\n",
       "    <tr>\n",
       "      <th>8</th>\n",
       "      <td>15.0</td>\n",
       "      <td>8</td>\n",
       "      <td>302.0</td>\n",
       "      <td>130</td>\n",
       "      <td>4295</td>\n",
       "      <td>14.9</td>\n",
       "      <td>77</td>\n",
       "      <td>US</td>\n",
       "      <td>mercury cougar brougham</td>\n",
       "      <td>green</td>\n",
       "      <td>51.24173611111111</td>\n",
       "      <td>o</td>\n",
       "    </tr>\n",
       "    <tr>\n",
       "      <th>9</th>\n",
       "      <td>17.0</td>\n",
       "      <td>8</td>\n",
       "      <td>302.0</td>\n",
       "      <td>140</td>\n",
       "      <td>3449</td>\n",
       "      <td>10.5</td>\n",
       "      <td>70</td>\n",
       "      <td>US</td>\n",
       "      <td>ford torino</td>\n",
       "      <td>green</td>\n",
       "      <td>33.04333611111111</td>\n",
       "      <td>o</td>\n",
       "    </tr>\n",
       "  </tbody>\n",
       "</table>\n",
       "</div>"
      ],
      "text/plain": [
       "    mpg cyl  displ   hp weight accel  yr  origin                     name  \\\n",
       "0  18.0   6  250.0   88   3139  14.5  71      US             ford mustang   \n",
       "1   9.0   8  304.0  193   4732  18.5  70      US                 hi 1200d   \n",
       "2  36.1   4   91.0   60   1800  16.4  78    Asia         honda civic cvcc   \n",
       "3  18.5   6  250.0   98   3525  19.0  77      US             ford granada   \n",
       "4  34.3   4   97.0   78   2188  15.8  80  Europe                audi 4000   \n",
       "5  32.9   4  119.0  100   2615  14.8  81    Asia             datsun 200sx   \n",
       "6  32.2   4  108.0   75   2265  15.2  80    Asia           toyota corolla   \n",
       "7  22.0   4  121.0   76   2511  18.0  72  Europe      volkswagen 411 (sw)   \n",
       "8  15.0   8  302.0  130   4295  14.9  77      US  mercury cougar brougham   \n",
       "9  17.0   8  302.0  140   3449  10.5  70      US              ford torino   \n",
       "\n",
       "   color                size marker  \n",
       "0    red  27.370336111111108      o  \n",
       "1  green  62.199511111111114      o  \n",
       "2   blue                 9.0      x  \n",
       "3    red           34.515625      o  \n",
       "4   blue  13.298177777777777      s  \n",
       "5   blue  18.995069444444447      x  \n",
       "6   blue           14.250625      x  \n",
       "7   blue  17.514224999999996      s  \n",
       "8  green   51.24173611111111      o  \n",
       "9  green   33.04333611111111      o  "
      ]
     },
     "execution_count": 6,
     "metadata": {},
     "output_type": "execute_result"
    }
   ],
   "source": [
    "auto.limit(10).toPandas()"
   ]
  },
  {
   "cell_type": "markdown",
   "metadata": {},
   "source": [
    "# Data type\n",
    "## Convert Spark Dataframe to RDD"
   ]
  },
  {
   "cell_type": "code",
   "execution_count": 7,
   "metadata": {},
   "outputs": [
    {
     "data": {
      "text/plain": [
       "MapPartitionsRDD[20] at javaToPython at NativeMethodAccessorImpl.java:0"
      ]
     },
     "execution_count": 7,
     "metadata": {},
     "output_type": "execute_result"
    }
   ],
   "source": [
    "auto_rdd = auto.rdd\n",
    "auto_rdd"
   ]
  },
  {
   "cell_type": "code",
   "execution_count": 8,
   "metadata": {
    "scrolled": true
   },
   "outputs": [
    {
     "data": {
      "text/plain": [
       "[Row(mpg='18.0', cyl='6', displ='250.0', hp='88', weight='3139', accel='14.5', yr='71', origin='US', name='ford mustang', color='red', size='27.370336111111108', marker='o'),\n",
       " Row(mpg='9.0', cyl='8', displ='304.0', hp='193', weight='4732', accel='18.5', yr='70', origin='US', name='hi 1200d', color='green', size='62.199511111111114', marker='o'),\n",
       " Row(mpg='36.1', cyl='4', displ='91.0', hp='60', weight='1800', accel='16.4', yr='78', origin='Asia', name='honda civic cvcc', color='blue', size='9.0', marker='x'),\n",
       " Row(mpg='18.5', cyl='6', displ='250.0', hp='98', weight='3525', accel='19.0', yr='77', origin='US', name='ford granada', color='red', size='34.515625', marker='o'),\n",
       " Row(mpg='34.3', cyl='4', displ='97.0', hp='78', weight='2188', accel='15.8', yr='80', origin='Europe', name='audi 4000', color='blue', size='13.298177777777777', marker='s'),\n",
       " Row(mpg='32.9', cyl='4', displ='119.0', hp='100', weight='2615', accel='14.8', yr='81', origin='Asia', name='datsun 200sx', color='blue', size='18.995069444444447', marker='x'),\n",
       " Row(mpg='32.2', cyl='4', displ='108.0', hp='75', weight='2265', accel='15.2', yr='80', origin='Asia', name='toyota corolla', color='blue', size='14.250625', marker='x'),\n",
       " Row(mpg='22.0', cyl='4', displ='121.0', hp='76', weight='2511', accel='18.0', yr='72', origin='Europe', name='volkswagen 411 (sw)', color='blue', size='17.514224999999996', marker='s'),\n",
       " Row(mpg='15.0', cyl='8', displ='302.0', hp='130', weight='4295', accel='14.9', yr='77', origin='US', name='mercury cougar brougham', color='green', size='51.24173611111111', marker='o'),\n",
       " Row(mpg='17.0', cyl='8', displ='302.0', hp='140', weight='3449', accel='10.5', yr='70', origin='US', name='ford torino', color='green', size='33.04333611111111', marker='o')]"
      ]
     },
     "execution_count": 8,
     "metadata": {},
     "output_type": "execute_result"
    }
   ],
   "source": [
    "auto_rdd.take(10)"
   ]
  },
  {
   "cell_type": "code",
   "execution_count": 9,
   "metadata": {},
   "outputs": [
    {
     "data": {
      "text/plain": [
       "pyspark.rdd.RDD"
      ]
     },
     "execution_count": 9,
     "metadata": {},
     "output_type": "execute_result"
    }
   ],
   "source": [
    "type(auto_rdd)"
   ]
  },
  {
   "cell_type": "markdown",
   "metadata": {},
   "source": [
    "## Dataframe sample will be List"
   ]
  },
  {
   "cell_type": "code",
   "execution_count": 10,
   "metadata": {},
   "outputs": [
    {
     "data": {
      "text/plain": [
       "[Row(mpg='18.0', cyl='6', displ='250.0', hp='88', weight='3139', accel='14.5', yr='71', origin='US', name='ford mustang', color='red', size='27.370336111111108', marker='o')]"
      ]
     },
     "execution_count": 10,
     "metadata": {},
     "output_type": "execute_result"
    }
   ],
   "source": [
    "auto_list = auto.take(1)\n",
    "auto_list"
   ]
  },
  {
   "cell_type": "code",
   "execution_count": 11,
   "metadata": {},
   "outputs": [
    {
     "data": {
      "text/plain": [
       "list"
      ]
     },
     "execution_count": 11,
     "metadata": {},
     "output_type": "execute_result"
    }
   ],
   "source": [
    "type(auto_list)"
   ]
  },
  {
   "cell_type": "markdown",
   "metadata": {},
   "source": [
    "## Convert List to Dataframe"
   ]
  },
  {
   "cell_type": "code",
   "execution_count": 12,
   "metadata": {},
   "outputs": [
    {
     "name": "stdout",
     "output_type": "stream",
     "text": [
      "+----+---+-----+---+------+-----+---+------+------------+-----+------------------+------+\n",
      "| mpg|cyl|displ| hp|weight|accel| yr|origin|        name|color|              size|marker|\n",
      "+----+---+-----+---+------+-----+---+------+------------+-----+------------------+------+\n",
      "|18.0|  6|250.0| 88|  3139| 14.5| 71|    US|ford mustang|  red|27.370336111111108|     o|\n",
      "+----+---+-----+---+------+-----+---+------+------------+-----+------------------+------+\n",
      "\n"
     ]
    }
   ],
   "source": [
    "auto_df = spark.sparkContext.parallelize(auto_list).toDF()\n",
    "auto_df.show()"
   ]
  },
  {
   "cell_type": "code",
   "execution_count": 13,
   "metadata": {},
   "outputs": [
    {
     "data": {
      "text/plain": [
       "pyspark.sql.dataframe.DataFrame"
      ]
     },
     "execution_count": 13,
     "metadata": {},
     "output_type": "execute_result"
    }
   ],
   "source": [
    "type(auto_df)"
   ]
  },
  {
   "cell_type": "markdown",
   "metadata": {},
   "source": [
    "## Convert List to RDD"
   ]
  },
  {
   "cell_type": "code",
   "execution_count": 14,
   "metadata": {},
   "outputs": [
    {
     "data": {
      "text/plain": [
       "ParallelCollectionRDD[35] at parallelize at PythonRDD.scala:194"
      ]
     },
     "execution_count": 14,
     "metadata": {},
     "output_type": "execute_result"
    }
   ],
   "source": [
    "auto_rdd = spark.sparkContext.parallelize(auto_list)\n",
    "auto_rdd"
   ]
  },
  {
   "cell_type": "code",
   "execution_count": 15,
   "metadata": {
    "scrolled": true
   },
   "outputs": [
    {
     "data": {
      "text/plain": [
       "[Row(mpg='18.0', cyl='6', displ='250.0', hp='88', weight='3139', accel='14.5', yr='71', origin='US', name='ford mustang', color='red', size='27.370336111111108', marker='o')]"
      ]
     },
     "execution_count": 15,
     "metadata": {},
     "output_type": "execute_result"
    }
   ],
   "source": [
    "auto_rdd.take(10)"
   ]
  },
  {
   "cell_type": "code",
   "execution_count": 16,
   "metadata": {},
   "outputs": [
    {
     "data": {
      "text/plain": [
       "pyspark.rdd.RDD"
      ]
     },
     "execution_count": 16,
     "metadata": {},
     "output_type": "execute_result"
    }
   ],
   "source": [
    "type(auto_rdd)"
   ]
  },
  {
   "cell_type": "markdown",
   "metadata": {},
   "source": [
    "## Convert RDD to Dataframe"
   ]
  },
  {
   "cell_type": "code",
   "execution_count": 17,
   "metadata": {},
   "outputs": [
    {
     "name": "stdout",
     "output_type": "stream",
     "text": [
      "+----+---+-----+---+------+-----+---+------+------------+-----+------------------+------+\n",
      "| mpg|cyl|displ| hp|weight|accel| yr|origin|        name|color|              size|marker|\n",
      "+----+---+-----+---+------+-----+---+------+------------+-----+------------------+------+\n",
      "|18.0|  6|250.0| 88|  3139| 14.5| 71|    US|ford mustang|  red|27.370336111111108|     o|\n",
      "+----+---+-----+---+------+-----+---+------+------------+-----+------------------+------+\n",
      "\n"
     ]
    }
   ],
   "source": [
    "auto_df = auto_rdd.toDF()\n",
    "auto_df.show()"
   ]
  },
  {
   "cell_type": "code",
   "execution_count": 18,
   "metadata": {},
   "outputs": [
    {
     "data": {
      "text/plain": [
       "pyspark.sql.dataframe.DataFrame"
      ]
     },
     "execution_count": 18,
     "metadata": {},
     "output_type": "execute_result"
    }
   ],
   "source": [
    "type(auto_df)"
   ]
  },
  {
   "cell_type": "markdown",
   "metadata": {},
   "source": [
    "## Column"
   ]
  },
  {
   "cell_type": "code",
   "execution_count": 19,
   "metadata": {},
   "outputs": [
    {
     "data": {
      "text/plain": [
       "Column<b'marker'>"
      ]
     },
     "execution_count": 19,
     "metadata": {},
     "output_type": "execute_result"
    }
   ],
   "source": [
    "auto['marker']"
   ]
  },
  {
   "cell_type": "code",
   "execution_count": 20,
   "metadata": {},
   "outputs": [
    {
     "data": {
      "text/plain": [
       "Column<b\"marker['0']\">"
      ]
     },
     "execution_count": 20,
     "metadata": {},
     "output_type": "execute_result"
    }
   ],
   "source": [
    "auto['marker'].getField('0')"
   ]
  },
  {
   "cell_type": "code",
   "execution_count": 21,
   "metadata": {},
   "outputs": [
    {
     "data": {
      "text/plain": [
       "Column<b'marker[0]'>"
      ]
     },
     "execution_count": 21,
     "metadata": {},
     "output_type": "execute_result"
    }
   ],
   "source": [
    "auto['marker'].getItem(0)"
   ]
  }
 ],
 "metadata": {
  "kernelspec": {
   "display_name": "Python 3",
   "language": "python",
   "name": "python3"
  },
  "language_info": {
   "codemirror_mode": {
    "name": "ipython",
    "version": 3
   },
   "file_extension": ".py",
   "mimetype": "text/x-python",
   "name": "python",
   "nbconvert_exporter": "python",
   "pygments_lexer": "ipython3",
   "version": "3.6.6"
  }
 },
 "nbformat": 4,
 "nbformat_minor": 2
}

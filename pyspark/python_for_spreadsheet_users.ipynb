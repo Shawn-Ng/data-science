{
 "cells": [
  {
   "cell_type": "code",
   "execution_count": 1,
   "metadata": {},
   "outputs": [],
   "source": [
    "import pandas as pd"
   ]
  },
  {
   "cell_type": "markdown",
   "metadata": {},
   "source": [
    "# 2. Grouping and summing"
   ]
  },
  {
   "cell_type": "code",
   "execution_count": 2,
   "metadata": {},
   "outputs": [
    {
     "name": "stdout",
     "output_type": "stream",
     "text": [
      "<class 'pandas.core.frame.DataFrame'>\n",
      "RangeIndex: 1155 entries, 0 to 1154\n",
      "Data columns (total 4 columns):\n",
      "theater_name       1155 non-null object\n",
      "movie_title        1155 non-null object\n",
      "ticket_type        1155 non-null object\n",
      "ticket_quantity    1155 non-null int64\n",
      "dtypes: int64(1), object(3)\n",
      "memory usage: 36.2+ KB\n"
     ]
    }
   ],
   "source": [
    "df = pd.read_excel('pfsu-data/movie theater sales data.xlsx')\n",
    "df.info()"
   ]
  },
  {
   "cell_type": "code",
   "execution_count": 3,
   "metadata": {},
   "outputs": [
    {
     "data": {
      "text/html": [
       "<div>\n",
       "<style scoped>\n",
       "    .dataframe tbody tr th:only-of-type {\n",
       "        vertical-align: middle;\n",
       "    }\n",
       "\n",
       "    .dataframe tbody tr th {\n",
       "        vertical-align: top;\n",
       "    }\n",
       "\n",
       "    .dataframe thead th {\n",
       "        text-align: right;\n",
       "    }\n",
       "</style>\n",
       "<table border=\"1\" class=\"dataframe\">\n",
       "  <thead>\n",
       "    <tr style=\"text-align: right;\">\n",
       "      <th></th>\n",
       "      <th>theater_name</th>\n",
       "      <th>movie_title</th>\n",
       "      <th>ticket_type</th>\n",
       "      <th>ticket_quantity</th>\n",
       "    </tr>\n",
       "  </thead>\n",
       "  <tbody>\n",
       "    <tr>\n",
       "      <th>0</th>\n",
       "      <td>Sumdance Cinemas</td>\n",
       "      <td>Harry Plotter</td>\n",
       "      <td>senior</td>\n",
       "      <td>4</td>\n",
       "    </tr>\n",
       "    <tr>\n",
       "      <th>1</th>\n",
       "      <td>The Empirical House</td>\n",
       "      <td>10 Things I Hate About Unix</td>\n",
       "      <td>child</td>\n",
       "      <td>2</td>\n",
       "    </tr>\n",
       "    <tr>\n",
       "      <th>2</th>\n",
       "      <td>The Empirical House</td>\n",
       "      <td>The Seaborn Identity</td>\n",
       "      <td>adult</td>\n",
       "      <td>4</td>\n",
       "    </tr>\n",
       "    <tr>\n",
       "      <th>3</th>\n",
       "      <td>Sumdance Cinemas</td>\n",
       "      <td>10 Things I Hate About Unix</td>\n",
       "      <td>adult</td>\n",
       "      <td>2</td>\n",
       "    </tr>\n",
       "    <tr>\n",
       "      <th>4</th>\n",
       "      <td>The Empirical House</td>\n",
       "      <td>Mamma Median!</td>\n",
       "      <td>senior</td>\n",
       "      <td>2</td>\n",
       "    </tr>\n",
       "  </tbody>\n",
       "</table>\n",
       "</div>"
      ],
      "text/plain": [
       "          theater_name                  movie_title ticket_type  \\\n",
       "0     Sumdance Cinemas                Harry Plotter      senior   \n",
       "1  The Empirical House  10 Things I Hate About Unix       child   \n",
       "2  The Empirical House         The Seaborn Identity       adult   \n",
       "3     Sumdance Cinemas  10 Things I Hate About Unix       adult   \n",
       "4  The Empirical House                Mamma Median!      senior   \n",
       "\n",
       "   ticket_quantity  \n",
       "0                4  \n",
       "1                2  \n",
       "2                4  \n",
       "3                2  \n",
       "4                2  "
      ]
     },
     "execution_count": 3,
     "metadata": {},
     "output_type": "execute_result"
    }
   ],
   "source": [
    "df.head()"
   ]
  },
  {
   "cell_type": "code",
   "execution_count": 4,
   "metadata": {},
   "outputs": [
    {
     "data": {
      "text/plain": [
       "ticket_quantity    2305\n",
       "dtype: int64"
      ]
     },
     "execution_count": 4,
     "metadata": {},
     "output_type": "execute_result"
    }
   ],
   "source": [
    "df.sum(numeric_only=True)"
   ]
  },
  {
   "cell_type": "code",
   "execution_count": 5,
   "metadata": {},
   "outputs": [
    {
     "data": {
      "text/html": [
       "<div>\n",
       "<style scoped>\n",
       "    .dataframe tbody tr th:only-of-type {\n",
       "        vertical-align: middle;\n",
       "    }\n",
       "\n",
       "    .dataframe tbody tr th {\n",
       "        vertical-align: top;\n",
       "    }\n",
       "\n",
       "    .dataframe thead th {\n",
       "        text-align: right;\n",
       "    }\n",
       "</style>\n",
       "<table border=\"1\" class=\"dataframe\">\n",
       "  <thead>\n",
       "    <tr style=\"text-align: right;\">\n",
       "      <th></th>\n",
       "      <th>ticket_quantity</th>\n",
       "    </tr>\n",
       "    <tr>\n",
       "      <th>theater_name</th>\n",
       "      <th></th>\n",
       "    </tr>\n",
       "  </thead>\n",
       "  <tbody>\n",
       "    <tr>\n",
       "      <th>Richie's Famous Minimax Theatre</th>\n",
       "      <td>572</td>\n",
       "    </tr>\n",
       "    <tr>\n",
       "      <th>Sumdance Cinemas</th>\n",
       "      <td>584</td>\n",
       "    </tr>\n",
       "    <tr>\n",
       "      <th>The Empirical House</th>\n",
       "      <td>554</td>\n",
       "    </tr>\n",
       "    <tr>\n",
       "      <th>The Frame</th>\n",
       "      <td>595</td>\n",
       "    </tr>\n",
       "  </tbody>\n",
       "</table>\n",
       "</div>"
      ],
      "text/plain": [
       "                                 ticket_quantity\n",
       "theater_name                                    \n",
       "Richie's Famous Minimax Theatre              572\n",
       "Sumdance Cinemas                             584\n",
       "The Empirical House                          554\n",
       "The Frame                                    595"
      ]
     },
     "execution_count": 5,
     "metadata": {},
     "output_type": "execute_result"
    }
   ],
   "source": [
    "df.groupby('theater_name').sum()"
   ]
  },
  {
   "cell_type": "code",
   "execution_count": 6,
   "metadata": {},
   "outputs": [
    {
     "data": {
      "text/html": [
       "<div>\n",
       "<style scoped>\n",
       "    .dataframe tbody tr th:only-of-type {\n",
       "        vertical-align: middle;\n",
       "    }\n",
       "\n",
       "    .dataframe tbody tr th {\n",
       "        vertical-align: top;\n",
       "    }\n",
       "\n",
       "    .dataframe thead th {\n",
       "        text-align: right;\n",
       "    }\n",
       "</style>\n",
       "<table border=\"1\" class=\"dataframe\">\n",
       "  <thead>\n",
       "    <tr style=\"text-align: right;\">\n",
       "      <th></th>\n",
       "      <th>ticket_quantity</th>\n",
       "    </tr>\n",
       "    <tr>\n",
       "      <th>movie_title</th>\n",
       "      <th></th>\n",
       "    </tr>\n",
       "  </thead>\n",
       "  <tbody>\n",
       "    <tr>\n",
       "      <th>10 Things I Hate About Unix</th>\n",
       "      <td>331</td>\n",
       "    </tr>\n",
       "    <tr>\n",
       "      <th>Harry Plotter</th>\n",
       "      <td>292</td>\n",
       "    </tr>\n",
       "    <tr>\n",
       "      <th>Kung Fu pandas</th>\n",
       "      <td>253</td>\n",
       "    </tr>\n",
       "    <tr>\n",
       "      <th>Mamma Median!</th>\n",
       "      <td>323</td>\n",
       "    </tr>\n",
       "    <tr>\n",
       "      <th>The Matrices</th>\n",
       "      <td>343</td>\n",
       "    </tr>\n",
       "    <tr>\n",
       "      <th>The Seaborn Identity</th>\n",
       "      <td>352</td>\n",
       "    </tr>\n",
       "    <tr>\n",
       "      <th>The Sumif All Fears</th>\n",
       "      <td>156</td>\n",
       "    </tr>\n",
       "    <tr>\n",
       "      <th>There's Something About Merging</th>\n",
       "      <td>149</td>\n",
       "    </tr>\n",
       "    <tr>\n",
       "      <th>While You Were Sorting</th>\n",
       "      <td>106</td>\n",
       "    </tr>\n",
       "  </tbody>\n",
       "</table>\n",
       "</div>"
      ],
      "text/plain": [
       "                                 ticket_quantity\n",
       "movie_title                                     \n",
       "10 Things I Hate About Unix                  331\n",
       "Harry Plotter                                292\n",
       "Kung Fu pandas                               253\n",
       "Mamma Median!                                323\n",
       "The Matrices                                 343\n",
       "The Seaborn Identity                         352\n",
       "The Sumif All Fears                          156\n",
       "There's Something About Merging              149\n",
       "While You Were Sorting                       106"
      ]
     },
     "execution_count": 6,
     "metadata": {},
     "output_type": "execute_result"
    }
   ],
   "source": [
    "df.groupby('movie_title').sum()"
   ]
  },
  {
   "cell_type": "markdown",
   "metadata": {},
   "source": [
    "# 2.1. Grouping by multiple columns"
   ]
  },
  {
   "cell_type": "code",
   "execution_count": 7,
   "metadata": {},
   "outputs": [
    {
     "data": {
      "text/html": [
       "<div>\n",
       "<style scoped>\n",
       "    .dataframe tbody tr th:only-of-type {\n",
       "        vertical-align: middle;\n",
       "    }\n",
       "\n",
       "    .dataframe tbody tr th {\n",
       "        vertical-align: top;\n",
       "    }\n",
       "\n",
       "    .dataframe thead th {\n",
       "        text-align: right;\n",
       "    }\n",
       "</style>\n",
       "<table border=\"1\" class=\"dataframe\">\n",
       "  <thead>\n",
       "    <tr style=\"text-align: right;\">\n",
       "      <th></th>\n",
       "      <th></th>\n",
       "      <th>ticket_quantity</th>\n",
       "    </tr>\n",
       "    <tr>\n",
       "      <th>theater_name</th>\n",
       "      <th>ticket_type</th>\n",
       "      <th></th>\n",
       "    </tr>\n",
       "  </thead>\n",
       "  <tbody>\n",
       "    <tr>\n",
       "      <th rowspan=\"3\" valign=\"top\">Richie's Famous Minimax Theatre</th>\n",
       "      <th>adult</th>\n",
       "      <td>334</td>\n",
       "    </tr>\n",
       "    <tr>\n",
       "      <th>child</th>\n",
       "      <td>116</td>\n",
       "    </tr>\n",
       "    <tr>\n",
       "      <th>senior</th>\n",
       "      <td>122</td>\n",
       "    </tr>\n",
       "    <tr>\n",
       "      <th rowspan=\"3\" valign=\"top\">Sumdance Cinemas</th>\n",
       "      <th>adult</th>\n",
       "      <td>330</td>\n",
       "    </tr>\n",
       "    <tr>\n",
       "      <th>child</th>\n",
       "      <td>153</td>\n",
       "    </tr>\n",
       "    <tr>\n",
       "      <th>senior</th>\n",
       "      <td>101</td>\n",
       "    </tr>\n",
       "    <tr>\n",
       "      <th rowspan=\"3\" valign=\"top\">The Empirical House</th>\n",
       "      <th>adult</th>\n",
       "      <td>356</td>\n",
       "    </tr>\n",
       "    <tr>\n",
       "      <th>child</th>\n",
       "      <td>95</td>\n",
       "    </tr>\n",
       "    <tr>\n",
       "      <th>senior</th>\n",
       "      <td>103</td>\n",
       "    </tr>\n",
       "    <tr>\n",
       "      <th rowspan=\"3\" valign=\"top\">The Frame</th>\n",
       "      <th>adult</th>\n",
       "      <td>363</td>\n",
       "    </tr>\n",
       "    <tr>\n",
       "      <th>child</th>\n",
       "      <td>123</td>\n",
       "    </tr>\n",
       "    <tr>\n",
       "      <th>senior</th>\n",
       "      <td>109</td>\n",
       "    </tr>\n",
       "  </tbody>\n",
       "</table>\n",
       "</div>"
      ],
      "text/plain": [
       "                                             ticket_quantity\n",
       "theater_name                    ticket_type                 \n",
       "Richie's Famous Minimax Theatre adult                    334\n",
       "                                child                    116\n",
       "                                senior                   122\n",
       "Sumdance Cinemas                adult                    330\n",
       "                                child                    153\n",
       "                                senior                   101\n",
       "The Empirical House             adult                    356\n",
       "                                child                     95\n",
       "                                senior                   103\n",
       "The Frame                       adult                    363\n",
       "                                child                    123\n",
       "                                senior                   109"
      ]
     },
     "execution_count": 7,
     "metadata": {},
     "output_type": "execute_result"
    }
   ],
   "source": [
    "groups=['theater_name','ticket_type']\n",
    "df.groupby(groups).sum()"
   ]
  },
  {
   "cell_type": "code",
   "execution_count": 8,
   "metadata": {},
   "outputs": [
    {
     "data": {
      "text/html": [
       "<div>\n",
       "<style scoped>\n",
       "    .dataframe tbody tr th:only-of-type {\n",
       "        vertical-align: middle;\n",
       "    }\n",
       "\n",
       "    .dataframe tbody tr th {\n",
       "        vertical-align: top;\n",
       "    }\n",
       "\n",
       "    .dataframe thead th {\n",
       "        text-align: right;\n",
       "    }\n",
       "</style>\n",
       "<table border=\"1\" class=\"dataframe\">\n",
       "  <thead>\n",
       "    <tr style=\"text-align: right;\">\n",
       "      <th></th>\n",
       "      <th>theater_name</th>\n",
       "      <th>ticket_type</th>\n",
       "      <th>ticket_quantity</th>\n",
       "    </tr>\n",
       "  </thead>\n",
       "  <tbody>\n",
       "    <tr>\n",
       "      <th>0</th>\n",
       "      <td>Richie's Famous Minimax Theatre</td>\n",
       "      <td>adult</td>\n",
       "      <td>334</td>\n",
       "    </tr>\n",
       "    <tr>\n",
       "      <th>1</th>\n",
       "      <td>Richie's Famous Minimax Theatre</td>\n",
       "      <td>child</td>\n",
       "      <td>116</td>\n",
       "    </tr>\n",
       "    <tr>\n",
       "      <th>2</th>\n",
       "      <td>Richie's Famous Minimax Theatre</td>\n",
       "      <td>senior</td>\n",
       "      <td>122</td>\n",
       "    </tr>\n",
       "    <tr>\n",
       "      <th>3</th>\n",
       "      <td>Sumdance Cinemas</td>\n",
       "      <td>adult</td>\n",
       "      <td>330</td>\n",
       "    </tr>\n",
       "    <tr>\n",
       "      <th>4</th>\n",
       "      <td>Sumdance Cinemas</td>\n",
       "      <td>child</td>\n",
       "      <td>153</td>\n",
       "    </tr>\n",
       "    <tr>\n",
       "      <th>5</th>\n",
       "      <td>Sumdance Cinemas</td>\n",
       "      <td>senior</td>\n",
       "      <td>101</td>\n",
       "    </tr>\n",
       "    <tr>\n",
       "      <th>6</th>\n",
       "      <td>The Empirical House</td>\n",
       "      <td>adult</td>\n",
       "      <td>356</td>\n",
       "    </tr>\n",
       "    <tr>\n",
       "      <th>7</th>\n",
       "      <td>The Empirical House</td>\n",
       "      <td>child</td>\n",
       "      <td>95</td>\n",
       "    </tr>\n",
       "    <tr>\n",
       "      <th>8</th>\n",
       "      <td>The Empirical House</td>\n",
       "      <td>senior</td>\n",
       "      <td>103</td>\n",
       "    </tr>\n",
       "    <tr>\n",
       "      <th>9</th>\n",
       "      <td>The Frame</td>\n",
       "      <td>adult</td>\n",
       "      <td>363</td>\n",
       "    </tr>\n",
       "    <tr>\n",
       "      <th>10</th>\n",
       "      <td>The Frame</td>\n",
       "      <td>child</td>\n",
       "      <td>123</td>\n",
       "    </tr>\n",
       "    <tr>\n",
       "      <th>11</th>\n",
       "      <td>The Frame</td>\n",
       "      <td>senior</td>\n",
       "      <td>109</td>\n",
       "    </tr>\n",
       "  </tbody>\n",
       "</table>\n",
       "</div>"
      ],
      "text/plain": [
       "                       theater_name ticket_type  ticket_quantity\n",
       "0   Richie's Famous Minimax Theatre       adult              334\n",
       "1   Richie's Famous Minimax Theatre       child              116\n",
       "2   Richie's Famous Minimax Theatre      senior              122\n",
       "3                  Sumdance Cinemas       adult              330\n",
       "4                  Sumdance Cinemas       child              153\n",
       "5                  Sumdance Cinemas      senior              101\n",
       "6               The Empirical House       adult              356\n",
       "7               The Empirical House       child               95\n",
       "8               The Empirical House      senior              103\n",
       "9                         The Frame       adult              363\n",
       "10                        The Frame       child              123\n",
       "11                        The Frame      senior              109"
      ]
     },
     "execution_count": 8,
     "metadata": {},
     "output_type": "execute_result"
    }
   ],
   "source": [
    "groups=['theater_name','ticket_type']\n",
    "df.groupby(groups, as_index=False).sum()"
   ]
  },
  {
   "cell_type": "code",
   "execution_count": 9,
   "metadata": {},
   "outputs": [
    {
     "data": {
      "text/html": [
       "<div>\n",
       "<style scoped>\n",
       "    .dataframe tbody tr th:only-of-type {\n",
       "        vertical-align: middle;\n",
       "    }\n",
       "\n",
       "    .dataframe tbody tr th {\n",
       "        vertical-align: top;\n",
       "    }\n",
       "\n",
       "    .dataframe thead th {\n",
       "        text-align: right;\n",
       "    }\n",
       "</style>\n",
       "<table border=\"1\" class=\"dataframe\">\n",
       "  <thead>\n",
       "    <tr style=\"text-align: right;\">\n",
       "      <th></th>\n",
       "      <th>theater_name</th>\n",
       "      <th>ticket_type</th>\n",
       "      <th>ticket_quantity</th>\n",
       "    </tr>\n",
       "  </thead>\n",
       "  <tbody>\n",
       "    <tr>\n",
       "      <th>9</th>\n",
       "      <td>The Frame</td>\n",
       "      <td>adult</td>\n",
       "      <td>363</td>\n",
       "    </tr>\n",
       "    <tr>\n",
       "      <th>6</th>\n",
       "      <td>The Empirical House</td>\n",
       "      <td>adult</td>\n",
       "      <td>356</td>\n",
       "    </tr>\n",
       "    <tr>\n",
       "      <th>0</th>\n",
       "      <td>Richie's Famous Minimax Theatre</td>\n",
       "      <td>adult</td>\n",
       "      <td>334</td>\n",
       "    </tr>\n",
       "    <tr>\n",
       "      <th>3</th>\n",
       "      <td>Sumdance Cinemas</td>\n",
       "      <td>adult</td>\n",
       "      <td>330</td>\n",
       "    </tr>\n",
       "    <tr>\n",
       "      <th>4</th>\n",
       "      <td>Sumdance Cinemas</td>\n",
       "      <td>child</td>\n",
       "      <td>153</td>\n",
       "    </tr>\n",
       "    <tr>\n",
       "      <th>10</th>\n",
       "      <td>The Frame</td>\n",
       "      <td>child</td>\n",
       "      <td>123</td>\n",
       "    </tr>\n",
       "    <tr>\n",
       "      <th>2</th>\n",
       "      <td>Richie's Famous Minimax Theatre</td>\n",
       "      <td>senior</td>\n",
       "      <td>122</td>\n",
       "    </tr>\n",
       "    <tr>\n",
       "      <th>1</th>\n",
       "      <td>Richie's Famous Minimax Theatre</td>\n",
       "      <td>child</td>\n",
       "      <td>116</td>\n",
       "    </tr>\n",
       "    <tr>\n",
       "      <th>11</th>\n",
       "      <td>The Frame</td>\n",
       "      <td>senior</td>\n",
       "      <td>109</td>\n",
       "    </tr>\n",
       "    <tr>\n",
       "      <th>8</th>\n",
       "      <td>The Empirical House</td>\n",
       "      <td>senior</td>\n",
       "      <td>103</td>\n",
       "    </tr>\n",
       "    <tr>\n",
       "      <th>5</th>\n",
       "      <td>Sumdance Cinemas</td>\n",
       "      <td>senior</td>\n",
       "      <td>101</td>\n",
       "    </tr>\n",
       "    <tr>\n",
       "      <th>7</th>\n",
       "      <td>The Empirical House</td>\n",
       "      <td>child</td>\n",
       "      <td>95</td>\n",
       "    </tr>\n",
       "  </tbody>\n",
       "</table>\n",
       "</div>"
      ],
      "text/plain": [
       "                       theater_name ticket_type  ticket_quantity\n",
       "9                         The Frame       adult              363\n",
       "6               The Empirical House       adult              356\n",
       "0   Richie's Famous Minimax Theatre       adult              334\n",
       "3                  Sumdance Cinemas       adult              330\n",
       "4                  Sumdance Cinemas       child              153\n",
       "10                        The Frame       child              123\n",
       "2   Richie's Famous Minimax Theatre      senior              122\n",
       "1   Richie's Famous Minimax Theatre       child              116\n",
       "11                        The Frame      senior              109\n",
       "8               The Empirical House      senior              103\n",
       "5                  Sumdance Cinemas      senior              101\n",
       "7               The Empirical House       child               95"
      ]
     },
     "execution_count": 9,
     "metadata": {},
     "output_type": "execute_result"
    }
   ],
   "source": [
    "groups=['theater_name','ticket_type']\n",
    "df.groupby(groups, as_index=False).sum().sort_values('ticket_quantity', ascending=False)"
   ]
  },
  {
   "cell_type": "markdown",
   "metadata": {},
   "source": [
    "Top **ticket type** for each theater"
   ]
  },
  {
   "cell_type": "code",
   "execution_count": 10,
   "metadata": {},
   "outputs": [
    {
     "data": {
      "text/html": [
       "<div>\n",
       "<style scoped>\n",
       "    .dataframe tbody tr th:only-of-type {\n",
       "        vertical-align: middle;\n",
       "    }\n",
       "\n",
       "    .dataframe tbody tr th {\n",
       "        vertical-align: top;\n",
       "    }\n",
       "\n",
       "    .dataframe thead th {\n",
       "        text-align: right;\n",
       "    }\n",
       "</style>\n",
       "<table border=\"1\" class=\"dataframe\">\n",
       "  <thead>\n",
       "    <tr style=\"text-align: right;\">\n",
       "      <th></th>\n",
       "      <th>theater_name</th>\n",
       "      <th>ticket_type</th>\n",
       "      <th>ticket_quantity</th>\n",
       "    </tr>\n",
       "  </thead>\n",
       "  <tbody>\n",
       "    <tr>\n",
       "      <th>0</th>\n",
       "      <td>The Frame</td>\n",
       "      <td>adult</td>\n",
       "      <td>363</td>\n",
       "    </tr>\n",
       "    <tr>\n",
       "      <th>1</th>\n",
       "      <td>The Empirical House</td>\n",
       "      <td>adult</td>\n",
       "      <td>356</td>\n",
       "    </tr>\n",
       "    <tr>\n",
       "      <th>2</th>\n",
       "      <td>Richie's Famous Minimax Theatre</td>\n",
       "      <td>adult</td>\n",
       "      <td>334</td>\n",
       "    </tr>\n",
       "    <tr>\n",
       "      <th>3</th>\n",
       "      <td>Sumdance Cinemas</td>\n",
       "      <td>adult</td>\n",
       "      <td>330</td>\n",
       "    </tr>\n",
       "  </tbody>\n",
       "</table>\n",
       "</div>"
      ],
      "text/plain": [
       "                      theater_name ticket_type  ticket_quantity\n",
       "0                        The Frame       adult              363\n",
       "1              The Empirical House       adult              356\n",
       "2  Richie's Famous Minimax Theatre       adult              334\n",
       "3                 Sumdance Cinemas       adult              330"
      ]
     },
     "execution_count": 10,
     "metadata": {},
     "output_type": "execute_result"
    }
   ],
   "source": [
    "groups=['theater_name','ticket_type']\n",
    "\n",
    "df.groupby(groups, as_index=False).sum().sort_values('ticket_quantity', ascending=False)\\\n",
    "    .groupby('theater_name').head(1).reset_index(drop=True)"
   ]
  },
  {
   "cell_type": "markdown",
   "metadata": {},
   "source": [
    "# 2.2. Condense information"
   ]
  },
  {
   "cell_type": "code",
   "execution_count": 11,
   "metadata": {},
   "outputs": [
    {
     "data": {
      "text/html": [
       "<div>\n",
       "<style scoped>\n",
       "    .dataframe tbody tr th:only-of-type {\n",
       "        vertical-align: middle;\n",
       "    }\n",
       "\n",
       "    .dataframe tbody tr th {\n",
       "        vertical-align: top;\n",
       "    }\n",
       "\n",
       "    .dataframe thead th {\n",
       "        text-align: right;\n",
       "    }\n",
       "</style>\n",
       "<table border=\"1\" class=\"dataframe\">\n",
       "  <thead>\n",
       "    <tr style=\"text-align: right;\">\n",
       "      <th></th>\n",
       "      <th>ticket_quantity</th>\n",
       "    </tr>\n",
       "    <tr>\n",
       "      <th>theater_name</th>\n",
       "      <th></th>\n",
       "    </tr>\n",
       "  </thead>\n",
       "  <tbody>\n",
       "    <tr>\n",
       "      <th>Richie's Famous Minimax Theatre</th>\n",
       "      <td>2.028369</td>\n",
       "    </tr>\n",
       "    <tr>\n",
       "      <th>Sumdance Cinemas</th>\n",
       "      <td>1.966330</td>\n",
       "    </tr>\n",
       "    <tr>\n",
       "      <th>The Empirical House</th>\n",
       "      <td>1.985663</td>\n",
       "    </tr>\n",
       "    <tr>\n",
       "      <th>The Frame</th>\n",
       "      <td>2.003367</td>\n",
       "    </tr>\n",
       "  </tbody>\n",
       "</table>\n",
       "</div>"
      ],
      "text/plain": [
       "                                 ticket_quantity\n",
       "theater_name                                    \n",
       "Richie's Famous Minimax Theatre         2.028369\n",
       "Sumdance Cinemas                        1.966330\n",
       "The Empirical House                     1.985663\n",
       "The Frame                               2.003367"
      ]
     },
     "execution_count": 11,
     "metadata": {},
     "output_type": "execute_result"
    }
   ],
   "source": [
    "df.groupby('theater_name').mean()"
   ]
  },
  {
   "cell_type": "markdown",
   "metadata": {},
   "source": [
    "# 3. Working with multiple sheets"
   ]
  },
  {
   "cell_type": "code",
   "execution_count": 12,
   "metadata": {},
   "outputs": [
    {
     "data": {
      "text/plain": [
       "<pandas.io.excel.ExcelFile at 0x7f434aded7f0>"
      ]
     },
     "execution_count": 12,
     "metadata": {},
     "output_type": "execute_result"
    }
   ],
   "source": [
    "excel = pd.ExcelFile('pfsu-data/movie theater sales data.xlsx')\n",
    "excel"
   ]
  },
  {
   "cell_type": "code",
   "execution_count": 13,
   "metadata": {},
   "outputs": [
    {
     "data": {
      "text/plain": [
       "['sales', 'ticket types', 'theaters', 'movies']"
      ]
     },
     "execution_count": 13,
     "metadata": {},
     "output_type": "execute_result"
    }
   ],
   "source": [
    "excel.sheet_names"
   ]
  },
  {
   "cell_type": "code",
   "execution_count": 14,
   "metadata": {},
   "outputs": [
    {
     "name": "stdout",
     "output_type": "stream",
     "text": [
      "<class 'pandas.core.frame.DataFrame'>\n",
      "RangeIndex: 1155 entries, 0 to 1154\n",
      "Data columns (total 4 columns):\n",
      "theater_name       1155 non-null object\n",
      "movie_title        1155 non-null object\n",
      "ticket_type        1155 non-null object\n",
      "ticket_quantity    1155 non-null int64\n",
      "dtypes: int64(1), object(3)\n",
      "memory usage: 36.2+ KB\n"
     ]
    }
   ],
   "source": [
    "sales = excel.parse('sales')\n",
    "sales.info()"
   ]
  },
  {
   "cell_type": "code",
   "execution_count": 15,
   "metadata": {},
   "outputs": [
    {
     "data": {
      "text/plain": [
       "0       SUMDANCE CINEMAS\n",
       "1    THE EMPIRICAL HOUSE\n",
       "2    THE EMPIRICAL HOUSE\n",
       "3       SUMDANCE CINEMAS\n",
       "4    THE EMPIRICAL HOUSE\n",
       "Name: theater_name, dtype: object"
      ]
     },
     "execution_count": 15,
     "metadata": {},
     "output_type": "execute_result"
    }
   ],
   "source": [
    "sales['theater_name'].str.upper().head()"
   ]
  },
  {
   "cell_type": "code",
   "execution_count": 16,
   "metadata": {},
   "outputs": [
    {
     "data": {
      "text/plain": [
       "0       sumdance cinemas\n",
       "1    the empirical house\n",
       "2    the empirical house\n",
       "3       sumdance cinemas\n",
       "4    the empirical house\n",
       "Name: theater_name, dtype: object"
      ]
     },
     "execution_count": 16,
     "metadata": {},
     "output_type": "execute_result"
    }
   ],
   "source": [
    "sales['theater_name'].str.lower().head()"
   ]
  },
  {
   "cell_type": "code",
   "execution_count": 17,
   "metadata": {},
   "outputs": [
    {
     "data": {
      "text/plain": [
       "0       Sumdance Cinemas\n",
       "1    The Empirical House\n",
       "2    The Empirical House\n",
       "3       Sumdance Cinemas\n",
       "4    The Empirical House\n",
       "Name: theater_name, dtype: object"
      ]
     },
     "execution_count": 17,
     "metadata": {},
     "output_type": "execute_result"
    }
   ],
   "source": [
    "sales['theater_name'].str.lower().str.title().head()"
   ]
  },
  {
   "cell_type": "code",
   "execution_count": 18,
   "metadata": {},
   "outputs": [
    {
     "data": {
      "text/plain": [
       "0       Sumdance Cinemas\n",
       "1    The Empirical House\n",
       "2    The Empirical House\n",
       "3       Sumdance Cinemas\n",
       "4    The Empirical House\n",
       "Name: theater_name, dtype: object"
      ]
     },
     "execution_count": 18,
     "metadata": {},
     "output_type": "execute_result"
    }
   ],
   "source": [
    "sales['theater_name'].str.strip().head()"
   ]
  },
  {
   "cell_type": "markdown",
   "metadata": {},
   "source": [
    "# 3.1. Merging: VLOOKUP of Python"
   ]
  },
  {
   "cell_type": "code",
   "execution_count": 19,
   "metadata": {},
   "outputs": [
    {
     "name": "stdout",
     "output_type": "stream",
     "text": [
      "<class 'pandas.core.frame.DataFrame'>\n",
      "RangeIndex: 3 entries, 0 to 2\n",
      "Data columns (total 2 columns):\n",
      "ticket_type     3 non-null object\n",
      "ticket_price    3 non-null int64\n",
      "dtypes: int64(1), object(1)\n",
      "memory usage: 128.0+ bytes\n"
     ]
    }
   ],
   "source": [
    "tickets = excel.parse('ticket types')\n",
    "tickets.info()"
   ]
  },
  {
   "cell_type": "code",
   "execution_count": 20,
   "metadata": {},
   "outputs": [
    {
     "data": {
      "text/html": [
       "<div>\n",
       "<style scoped>\n",
       "    .dataframe tbody tr th:only-of-type {\n",
       "        vertical-align: middle;\n",
       "    }\n",
       "\n",
       "    .dataframe tbody tr th {\n",
       "        vertical-align: top;\n",
       "    }\n",
       "\n",
       "    .dataframe thead th {\n",
       "        text-align: right;\n",
       "    }\n",
       "</style>\n",
       "<table border=\"1\" class=\"dataframe\">\n",
       "  <thead>\n",
       "    <tr style=\"text-align: right;\">\n",
       "      <th></th>\n",
       "      <th>ticket_type</th>\n",
       "      <th>ticket_price</th>\n",
       "    </tr>\n",
       "  </thead>\n",
       "  <tbody>\n",
       "    <tr>\n",
       "      <th>0</th>\n",
       "      <td>child</td>\n",
       "      <td>8</td>\n",
       "    </tr>\n",
       "    <tr>\n",
       "      <th>1</th>\n",
       "      <td>adult</td>\n",
       "      <td>20</td>\n",
       "    </tr>\n",
       "    <tr>\n",
       "      <th>2</th>\n",
       "      <td>senior</td>\n",
       "      <td>12</td>\n",
       "    </tr>\n",
       "  </tbody>\n",
       "</table>\n",
       "</div>"
      ],
      "text/plain": [
       "  ticket_type  ticket_price\n",
       "0       child             8\n",
       "1       adult            20\n",
       "2      senior            12"
      ]
     },
     "execution_count": 20,
     "metadata": {},
     "output_type": "execute_result"
    }
   ],
   "source": [
    "tickets"
   ]
  },
  {
   "cell_type": "code",
   "execution_count": 21,
   "metadata": {},
   "outputs": [
    {
     "name": "stdout",
     "output_type": "stream",
     "text": [
      "<class 'pandas.core.frame.DataFrame'>\n",
      "RangeIndex: 4 entries, 0 to 3\n",
      "Data columns (total 2 columns):\n",
      "theater_name        4 non-null object\n",
      "theater_location    4 non-null object\n",
      "dtypes: object(2)\n",
      "memory usage: 144.0+ bytes\n"
     ]
    }
   ],
   "source": [
    "theaters = excel.parse('theaters')\n",
    "theaters.info()"
   ]
  },
  {
   "cell_type": "code",
   "execution_count": 22,
   "metadata": {},
   "outputs": [
    {
     "data": {
      "text/html": [
       "<div>\n",
       "<style scoped>\n",
       "    .dataframe tbody tr th:only-of-type {\n",
       "        vertical-align: middle;\n",
       "    }\n",
       "\n",
       "    .dataframe tbody tr th {\n",
       "        vertical-align: top;\n",
       "    }\n",
       "\n",
       "    .dataframe thead th {\n",
       "        text-align: right;\n",
       "    }\n",
       "</style>\n",
       "<table border=\"1\" class=\"dataframe\">\n",
       "  <thead>\n",
       "    <tr style=\"text-align: right;\">\n",
       "      <th></th>\n",
       "      <th>theater_name</th>\n",
       "      <th>theater_location</th>\n",
       "    </tr>\n",
       "  </thead>\n",
       "  <tbody>\n",
       "    <tr>\n",
       "      <th>0</th>\n",
       "      <td>The Empirical House</td>\n",
       "      <td>New York</td>\n",
       "    </tr>\n",
       "    <tr>\n",
       "      <th>1</th>\n",
       "      <td>Sumdance Cinemas</td>\n",
       "      <td>Los Angeles</td>\n",
       "    </tr>\n",
       "    <tr>\n",
       "      <th>2</th>\n",
       "      <td>The Frame</td>\n",
       "      <td>Portland</td>\n",
       "    </tr>\n",
       "    <tr>\n",
       "      <th>3</th>\n",
       "      <td>Richie's Famous Minimax Theatre</td>\n",
       "      <td>Los Angeles</td>\n",
       "    </tr>\n",
       "  </tbody>\n",
       "</table>\n",
       "</div>"
      ],
      "text/plain": [
       "                      theater_name theater_location\n",
       "0              The Empirical House         New York\n",
       "1                 Sumdance Cinemas      Los Angeles\n",
       "2                        The Frame         Portland\n",
       "3  Richie's Famous Minimax Theatre      Los Angeles"
      ]
     },
     "execution_count": 22,
     "metadata": {},
     "output_type": "execute_result"
    }
   ],
   "source": [
    "theaters"
   ]
  },
  {
   "cell_type": "code",
   "execution_count": 23,
   "metadata": {},
   "outputs": [
    {
     "name": "stdout",
     "output_type": "stream",
     "text": [
      "<class 'pandas.core.frame.DataFrame'>\n",
      "RangeIndex: 9 entries, 0 to 8\n",
      "Data columns (total 3 columns):\n",
      "movie_title     9 non-null object\n",
      "movie_genre     9 non-null object\n",
      "movie_length    9 non-null int64\n",
      "dtypes: int64(1), object(2)\n",
      "memory usage: 296.0+ bytes\n"
     ]
    }
   ],
   "source": [
    "movies = excel.parse('movies')\n",
    "movies.info()"
   ]
  },
  {
   "cell_type": "code",
   "execution_count": 24,
   "metadata": {},
   "outputs": [
    {
     "data": {
      "text/html": [
       "<div>\n",
       "<style scoped>\n",
       "    .dataframe tbody tr th:only-of-type {\n",
       "        vertical-align: middle;\n",
       "    }\n",
       "\n",
       "    .dataframe tbody tr th {\n",
       "        vertical-align: top;\n",
       "    }\n",
       "\n",
       "    .dataframe thead th {\n",
       "        text-align: right;\n",
       "    }\n",
       "</style>\n",
       "<table border=\"1\" class=\"dataframe\">\n",
       "  <thead>\n",
       "    <tr style=\"text-align: right;\">\n",
       "      <th></th>\n",
       "      <th>movie_title</th>\n",
       "      <th>movie_genre</th>\n",
       "      <th>movie_length</th>\n",
       "    </tr>\n",
       "  </thead>\n",
       "  <tbody>\n",
       "    <tr>\n",
       "      <th>0</th>\n",
       "      <td>The Sumif All Fears</td>\n",
       "      <td>Action</td>\n",
       "      <td>124</td>\n",
       "    </tr>\n",
       "    <tr>\n",
       "      <th>1</th>\n",
       "      <td>The Seaborn Identity</td>\n",
       "      <td>Action</td>\n",
       "      <td>119</td>\n",
       "    </tr>\n",
       "    <tr>\n",
       "      <th>2</th>\n",
       "      <td>The Matrices</td>\n",
       "      <td>Action</td>\n",
       "      <td>136</td>\n",
       "    </tr>\n",
       "    <tr>\n",
       "      <th>3</th>\n",
       "      <td>There's Something About Merging</td>\n",
       "      <td>Comedy</td>\n",
       "      <td>119</td>\n",
       "    </tr>\n",
       "    <tr>\n",
       "      <th>4</th>\n",
       "      <td>Mamma Median!</td>\n",
       "      <td>Comedy</td>\n",
       "      <td>108</td>\n",
       "    </tr>\n",
       "    <tr>\n",
       "      <th>5</th>\n",
       "      <td>Harry Plotter</td>\n",
       "      <td>Kids</td>\n",
       "      <td>159</td>\n",
       "    </tr>\n",
       "    <tr>\n",
       "      <th>6</th>\n",
       "      <td>Kung Fu pandas</td>\n",
       "      <td>Kids</td>\n",
       "      <td>92</td>\n",
       "    </tr>\n",
       "    <tr>\n",
       "      <th>7</th>\n",
       "      <td>While You Were Sorting</td>\n",
       "      <td>Romance</td>\n",
       "      <td>103</td>\n",
       "    </tr>\n",
       "    <tr>\n",
       "      <th>8</th>\n",
       "      <td>10 Things I Hate About Unix</td>\n",
       "      <td>Romance</td>\n",
       "      <td>97</td>\n",
       "    </tr>\n",
       "  </tbody>\n",
       "</table>\n",
       "</div>"
      ],
      "text/plain": [
       "                       movie_title movie_genre  movie_length\n",
       "0              The Sumif All Fears      Action           124\n",
       "1             The Seaborn Identity      Action           119\n",
       "2                     The Matrices      Action           136\n",
       "3  There's Something About Merging      Comedy           119\n",
       "4                    Mamma Median!      Comedy           108\n",
       "5                    Harry Plotter        Kids           159\n",
       "6                   Kung Fu pandas        Kids            92\n",
       "7           While You Were Sorting     Romance           103\n",
       "8      10 Things I Hate About Unix     Romance            97"
      ]
     },
     "execution_count": 24,
     "metadata": {},
     "output_type": "execute_result"
    }
   ],
   "source": [
    "movies"
   ]
  },
  {
   "cell_type": "code",
   "execution_count": 25,
   "metadata": {},
   "outputs": [
    {
     "data": {
      "text/html": [
       "<div>\n",
       "<style scoped>\n",
       "    .dataframe tbody tr th:only-of-type {\n",
       "        vertical-align: middle;\n",
       "    }\n",
       "\n",
       "    .dataframe tbody tr th {\n",
       "        vertical-align: top;\n",
       "    }\n",
       "\n",
       "    .dataframe thead th {\n",
       "        text-align: right;\n",
       "    }\n",
       "</style>\n",
       "<table border=\"1\" class=\"dataframe\">\n",
       "  <thead>\n",
       "    <tr style=\"text-align: right;\">\n",
       "      <th></th>\n",
       "      <th>theater_name</th>\n",
       "      <th>movie_title</th>\n",
       "      <th>ticket_type</th>\n",
       "      <th>ticket_quantity</th>\n",
       "      <th>ticket_price</th>\n",
       "    </tr>\n",
       "  </thead>\n",
       "  <tbody>\n",
       "    <tr>\n",
       "      <th>0</th>\n",
       "      <td>Sumdance Cinemas</td>\n",
       "      <td>Harry Plotter</td>\n",
       "      <td>senior</td>\n",
       "      <td>4</td>\n",
       "      <td>12</td>\n",
       "    </tr>\n",
       "    <tr>\n",
       "      <th>1</th>\n",
       "      <td>The Empirical House</td>\n",
       "      <td>10 Things I Hate About Unix</td>\n",
       "      <td>child</td>\n",
       "      <td>2</td>\n",
       "      <td>8</td>\n",
       "    </tr>\n",
       "    <tr>\n",
       "      <th>2</th>\n",
       "      <td>The Empirical House</td>\n",
       "      <td>The Seaborn Identity</td>\n",
       "      <td>adult</td>\n",
       "      <td>4</td>\n",
       "      <td>20</td>\n",
       "    </tr>\n",
       "    <tr>\n",
       "      <th>3</th>\n",
       "      <td>Sumdance Cinemas</td>\n",
       "      <td>10 Things I Hate About Unix</td>\n",
       "      <td>adult</td>\n",
       "      <td>2</td>\n",
       "      <td>20</td>\n",
       "    </tr>\n",
       "    <tr>\n",
       "      <th>4</th>\n",
       "      <td>The Empirical House</td>\n",
       "      <td>Mamma Median!</td>\n",
       "      <td>senior</td>\n",
       "      <td>2</td>\n",
       "      <td>12</td>\n",
       "    </tr>\n",
       "  </tbody>\n",
       "</table>\n",
       "</div>"
      ],
      "text/plain": [
       "          theater_name                  movie_title ticket_type  \\\n",
       "0     Sumdance Cinemas                Harry Plotter      senior   \n",
       "1  The Empirical House  10 Things I Hate About Unix       child   \n",
       "2  The Empirical House         The Seaborn Identity       adult   \n",
       "3     Sumdance Cinemas  10 Things I Hate About Unix       adult   \n",
       "4  The Empirical House                Mamma Median!      senior   \n",
       "\n",
       "   ticket_quantity  ticket_price  \n",
       "0                4            12  \n",
       "1                2             8  \n",
       "2                4            20  \n",
       "3                2            20  \n",
       "4                2            12  "
      ]
     },
     "execution_count": 25,
     "metadata": {},
     "output_type": "execute_result"
    }
   ],
   "source": [
    "df = sales.merge(tickets, on='ticket_type', how='left')\n",
    "df.head()"
   ]
  },
  {
   "cell_type": "code",
   "execution_count": 26,
   "metadata": {},
   "outputs": [
    {
     "data": {
      "text/html": [
       "<div>\n",
       "<style scoped>\n",
       "    .dataframe tbody tr th:only-of-type {\n",
       "        vertical-align: middle;\n",
       "    }\n",
       "\n",
       "    .dataframe tbody tr th {\n",
       "        vertical-align: top;\n",
       "    }\n",
       "\n",
       "    .dataframe thead th {\n",
       "        text-align: right;\n",
       "    }\n",
       "</style>\n",
       "<table border=\"1\" class=\"dataframe\">\n",
       "  <thead>\n",
       "    <tr style=\"text-align: right;\">\n",
       "      <th></th>\n",
       "      <th>theater_name</th>\n",
       "      <th>movie_title</th>\n",
       "      <th>ticket_type</th>\n",
       "      <th>ticket_quantity</th>\n",
       "      <th>ticket_price</th>\n",
       "      <th>theater_location</th>\n",
       "    </tr>\n",
       "  </thead>\n",
       "  <tbody>\n",
       "    <tr>\n",
       "      <th>0</th>\n",
       "      <td>Sumdance Cinemas</td>\n",
       "      <td>Harry Plotter</td>\n",
       "      <td>senior</td>\n",
       "      <td>4</td>\n",
       "      <td>12</td>\n",
       "      <td>Los Angeles</td>\n",
       "    </tr>\n",
       "    <tr>\n",
       "      <th>1</th>\n",
       "      <td>The Empirical House</td>\n",
       "      <td>10 Things I Hate About Unix</td>\n",
       "      <td>child</td>\n",
       "      <td>2</td>\n",
       "      <td>8</td>\n",
       "      <td>New York</td>\n",
       "    </tr>\n",
       "    <tr>\n",
       "      <th>2</th>\n",
       "      <td>The Empirical House</td>\n",
       "      <td>The Seaborn Identity</td>\n",
       "      <td>adult</td>\n",
       "      <td>4</td>\n",
       "      <td>20</td>\n",
       "      <td>New York</td>\n",
       "    </tr>\n",
       "    <tr>\n",
       "      <th>3</th>\n",
       "      <td>Sumdance Cinemas</td>\n",
       "      <td>10 Things I Hate About Unix</td>\n",
       "      <td>adult</td>\n",
       "      <td>2</td>\n",
       "      <td>20</td>\n",
       "      <td>Los Angeles</td>\n",
       "    </tr>\n",
       "    <tr>\n",
       "      <th>4</th>\n",
       "      <td>The Empirical House</td>\n",
       "      <td>Mamma Median!</td>\n",
       "      <td>senior</td>\n",
       "      <td>2</td>\n",
       "      <td>12</td>\n",
       "      <td>New York</td>\n",
       "    </tr>\n",
       "  </tbody>\n",
       "</table>\n",
       "</div>"
      ],
      "text/plain": [
       "          theater_name                  movie_title ticket_type  \\\n",
       "0     Sumdance Cinemas                Harry Plotter      senior   \n",
       "1  The Empirical House  10 Things I Hate About Unix       child   \n",
       "2  The Empirical House         The Seaborn Identity       adult   \n",
       "3     Sumdance Cinemas  10 Things I Hate About Unix       adult   \n",
       "4  The Empirical House                Mamma Median!      senior   \n",
       "\n",
       "   ticket_quantity  ticket_price theater_location  \n",
       "0                4            12      Los Angeles  \n",
       "1                2             8         New York  \n",
       "2                4            20         New York  \n",
       "3                2            20      Los Angeles  \n",
       "4                2            12         New York  "
      ]
     },
     "execution_count": 26,
     "metadata": {},
     "output_type": "execute_result"
    }
   ],
   "source": [
    "df = df.merge(theaters, on='theater_name', how='left')\n",
    "df.head()"
   ]
  },
  {
   "cell_type": "code",
   "execution_count": 27,
   "metadata": {},
   "outputs": [
    {
     "data": {
      "text/html": [
       "<div>\n",
       "<style scoped>\n",
       "    .dataframe tbody tr th:only-of-type {\n",
       "        vertical-align: middle;\n",
       "    }\n",
       "\n",
       "    .dataframe tbody tr th {\n",
       "        vertical-align: top;\n",
       "    }\n",
       "\n",
       "    .dataframe thead th {\n",
       "        text-align: right;\n",
       "    }\n",
       "</style>\n",
       "<table border=\"1\" class=\"dataframe\">\n",
       "  <thead>\n",
       "    <tr style=\"text-align: right;\">\n",
       "      <th></th>\n",
       "      <th>theater_name</th>\n",
       "      <th>movie_title</th>\n",
       "      <th>ticket_type</th>\n",
       "      <th>ticket_quantity</th>\n",
       "      <th>ticket_price</th>\n",
       "      <th>theater_location</th>\n",
       "      <th>movie_genre</th>\n",
       "      <th>movie_length</th>\n",
       "    </tr>\n",
       "  </thead>\n",
       "  <tbody>\n",
       "    <tr>\n",
       "      <th>0</th>\n",
       "      <td>Sumdance Cinemas</td>\n",
       "      <td>Harry Plotter</td>\n",
       "      <td>senior</td>\n",
       "      <td>4</td>\n",
       "      <td>12</td>\n",
       "      <td>Los Angeles</td>\n",
       "      <td>Kids</td>\n",
       "      <td>159</td>\n",
       "    </tr>\n",
       "    <tr>\n",
       "      <th>1</th>\n",
       "      <td>The Empirical House</td>\n",
       "      <td>10 Things I Hate About Unix</td>\n",
       "      <td>child</td>\n",
       "      <td>2</td>\n",
       "      <td>8</td>\n",
       "      <td>New York</td>\n",
       "      <td>Romance</td>\n",
       "      <td>97</td>\n",
       "    </tr>\n",
       "    <tr>\n",
       "      <th>2</th>\n",
       "      <td>The Empirical House</td>\n",
       "      <td>The Seaborn Identity</td>\n",
       "      <td>adult</td>\n",
       "      <td>4</td>\n",
       "      <td>20</td>\n",
       "      <td>New York</td>\n",
       "      <td>Action</td>\n",
       "      <td>119</td>\n",
       "    </tr>\n",
       "    <tr>\n",
       "      <th>3</th>\n",
       "      <td>Sumdance Cinemas</td>\n",
       "      <td>10 Things I Hate About Unix</td>\n",
       "      <td>adult</td>\n",
       "      <td>2</td>\n",
       "      <td>20</td>\n",
       "      <td>Los Angeles</td>\n",
       "      <td>Romance</td>\n",
       "      <td>97</td>\n",
       "    </tr>\n",
       "    <tr>\n",
       "      <th>4</th>\n",
       "      <td>The Empirical House</td>\n",
       "      <td>Mamma Median!</td>\n",
       "      <td>senior</td>\n",
       "      <td>2</td>\n",
       "      <td>12</td>\n",
       "      <td>New York</td>\n",
       "      <td>Comedy</td>\n",
       "      <td>108</td>\n",
       "    </tr>\n",
       "  </tbody>\n",
       "</table>\n",
       "</div>"
      ],
      "text/plain": [
       "          theater_name                  movie_title ticket_type  \\\n",
       "0     Sumdance Cinemas                Harry Plotter      senior   \n",
       "1  The Empirical House  10 Things I Hate About Unix       child   \n",
       "2  The Empirical House         The Seaborn Identity       adult   \n",
       "3     Sumdance Cinemas  10 Things I Hate About Unix       adult   \n",
       "4  The Empirical House                Mamma Median!      senior   \n",
       "\n",
       "   ticket_quantity  ticket_price theater_location movie_genre  movie_length  \n",
       "0                4            12      Los Angeles        Kids           159  \n",
       "1                2             8         New York     Romance            97  \n",
       "2                4            20         New York      Action           119  \n",
       "3                2            20      Los Angeles     Romance            97  \n",
       "4                2            12         New York      Comedy           108  "
      ]
     },
     "execution_count": 27,
     "metadata": {},
     "output_type": "execute_result"
    }
   ],
   "source": [
    "df = df.merge(movies, on='movie_title', how='left')\n",
    "df.head()"
   ]
  },
  {
   "cell_type": "markdown",
   "metadata": {},
   "source": [
    "# 4. Visualization"
   ]
  },
  {
   "cell_type": "code",
   "execution_count": 28,
   "metadata": {},
   "outputs": [],
   "source": [
    "import seaborn as sns\n",
    "import matplotlib.pyplot as plt"
   ]
  },
  {
   "cell_type": "code",
   "execution_count": 29,
   "metadata": {},
   "outputs": [
    {
     "data": {
      "text/html": [
       "<div>\n",
       "<style scoped>\n",
       "    .dataframe tbody tr th:only-of-type {\n",
       "        vertical-align: middle;\n",
       "    }\n",
       "\n",
       "    .dataframe tbody tr th {\n",
       "        vertical-align: top;\n",
       "    }\n",
       "\n",
       "    .dataframe thead th {\n",
       "        text-align: right;\n",
       "    }\n",
       "</style>\n",
       "<table border=\"1\" class=\"dataframe\">\n",
       "  <thead>\n",
       "    <tr style=\"text-align: right;\">\n",
       "      <th></th>\n",
       "      <th>theater_name</th>\n",
       "      <th>ticket_quantity</th>\n",
       "      <th>ticket_price</th>\n",
       "      <th>movie_length</th>\n",
       "      <th>revenue</th>\n",
       "    </tr>\n",
       "  </thead>\n",
       "  <tbody>\n",
       "    <tr>\n",
       "      <th>3</th>\n",
       "      <td>The Frame</td>\n",
       "      <td>595</td>\n",
       "      <td>4760</td>\n",
       "      <td>35643</td>\n",
       "      <td>2832200</td>\n",
       "    </tr>\n",
       "    <tr>\n",
       "      <th>1</th>\n",
       "      <td>Sumdance Cinemas</td>\n",
       "      <td>584</td>\n",
       "      <td>4636</td>\n",
       "      <td>34379</td>\n",
       "      <td>2707424</td>\n",
       "    </tr>\n",
       "    <tr>\n",
       "      <th>0</th>\n",
       "      <td>Richie's Famous Minimax Theatre</td>\n",
       "      <td>572</td>\n",
       "      <td>4472</td>\n",
       "      <td>33400</td>\n",
       "      <td>2557984</td>\n",
       "    </tr>\n",
       "    <tr>\n",
       "      <th>2</th>\n",
       "      <td>The Empirical House</td>\n",
       "      <td>554</td>\n",
       "      <td>4552</td>\n",
       "      <td>33607</td>\n",
       "      <td>2521808</td>\n",
       "    </tr>\n",
       "  </tbody>\n",
       "</table>\n",
       "</div>"
      ],
      "text/plain": [
       "                      theater_name  ticket_quantity  ticket_price  \\\n",
       "3                        The Frame              595          4760   \n",
       "1                 Sumdance Cinemas              584          4636   \n",
       "0  Richie's Famous Minimax Theatre              572          4472   \n",
       "2              The Empirical House              554          4552   \n",
       "\n",
       "   movie_length  revenue  \n",
       "3         35643  2832200  \n",
       "1         34379  2707424  \n",
       "0         33400  2557984  \n",
       "2         33607  2521808  "
      ]
     },
     "execution_count": 29,
     "metadata": {},
     "output_type": "execute_result"
    }
   ],
   "source": [
    "totals = df.groupby('theater_name', as_index=False).sum()\n",
    "totals['revenue'] = totals['ticket_quantity'] * totals['ticket_price']\n",
    "totals = totals.sort_values('revenue', ascending=False)\n",
    "totals"
   ]
  },
  {
   "cell_type": "code",
   "execution_count": 30,
   "metadata": {},
   "outputs": [
    {
     "data": {
      "image/png": "[encoded data removed]",
      "text/plain": [
       "<Figure size 432x288 with 1 Axes>"
      ]
     },
     "metadata": {
      "needs_background": "light"
     },
     "output_type": "display_data"
    }
   ],
   "source": [
    "sns.barplot(x='theater_name', y='revenue', data=totals)\n",
    "plt.savefig('pfsu-data/awesome_plot.png')\n",
    "\n",
    "plt.show()"
   ]
  },
  {
   "cell_type": "markdown",
   "metadata": {},
   "source": [
    "# 4.1. Barplot"
   ]
  },
  {
   "cell_type": "code",
   "execution_count": 31,
   "metadata": {},
   "outputs": [
    {
     "data": {
      "image/png": "[encoded data removed]",
      "text/plain": [
       "<Figure size 432x288 with 1 Axes>"
      ]
     },
     "metadata": {
      "needs_background": "light"
     },
     "output_type": "display_data"
    }
   ],
   "source": [
    "sns.barplot(x='theater_name', y='revenue', data=totals)\n",
    "plt.title('Revenue by Theater')\n",
    "plt.xlabel('Theater name')\n",
    "plt.ylabel('Revenue')\n",
    "plt.savefig('pfsu-data/awesome_plot.png')\n",
    "\n",
    "plt.show()"
   ]
  },
  {
   "cell_type": "code",
   "execution_count": 32,
   "metadata": {},
   "outputs": [
    {
     "data": {
      "image/png": "[encoded data removed]",
      "text/plain": [
       "<Figure size 432x288 with 1 Axes>"
      ]
     },
     "metadata": {
      "needs_background": "light"
     },
     "output_type": "display_data"
    }
   ],
   "source": [
    "sns.barplot(x='theater_name', y='revenue', data=totals)\n",
    "plt.title('Revenue by Theater')\n",
    "plt.xlabel('Theater name')\n",
    "plt.ylabel('Revenue')\n",
    "sns.despine()\n",
    "plt.savefig('pfsu-data/awesome_plot.png')\n",
    "\n",
    "plt.show()"
   ]
  },
  {
   "cell_type": "code",
   "execution_count": 33,
   "metadata": {},
   "outputs": [
    {
     "data": {
      "image/png": "[encoded data removed]",
      "text/plain": [
       "<Figure size 432x288 with 1 Axes>"
      ]
     },
     "metadata": {},
     "output_type": "display_data"
    }
   ],
   "source": [
    "sns.set_style('whitegrid')\n",
    "sns.barplot(x='theater_name', y='revenue', data=totals)\n",
    "plt.title('Revenue by Theater')\n",
    "plt.xlabel('Theater name')\n",
    "plt.ylabel('Revenue')\n",
    "sns.despine()\n",
    "plt.savefig('pfsu-data/awesome_plot.png')\n",
    "\n",
    "plt.show()"
   ]
  },
  {
   "cell_type": "markdown",
   "metadata": {},
   "source": [
    "# 4.2. Hue"
   ]
  },
  {
   "cell_type": "code",
   "execution_count": 34,
   "metadata": {
    "scrolled": true
   },
   "outputs": [
    {
     "data": {
      "text/html": [
       "<div>\n",
       "<style scoped>\n",
       "    .dataframe tbody tr th:only-of-type {\n",
       "        vertical-align: middle;\n",
       "    }\n",
       "\n",
       "    .dataframe tbody tr th {\n",
       "        vertical-align: top;\n",
       "    }\n",
       "\n",
       "    .dataframe thead th {\n",
       "        text-align: right;\n",
       "    }\n",
       "</style>\n",
       "<table border=\"1\" class=\"dataframe\">\n",
       "  <thead>\n",
       "    <tr style=\"text-align: right;\">\n",
       "      <th></th>\n",
       "      <th>theater_name</th>\n",
       "      <th>movie_title</th>\n",
       "      <th>ticket_quantity</th>\n",
       "      <th>ticket_price</th>\n",
       "      <th>movie_length</th>\n",
       "      <th>revenue</th>\n",
       "    </tr>\n",
       "  </thead>\n",
       "  <tbody>\n",
       "    <tr>\n",
       "      <th>0</th>\n",
       "      <td>Richie's Famous Minimax Theatre</td>\n",
       "      <td>10 Things I Hate About Unix</td>\n",
       "      <td>74</td>\n",
       "      <td>572</td>\n",
       "      <td>3686</td>\n",
       "      <td>42328</td>\n",
       "    </tr>\n",
       "    <tr>\n",
       "      <th>1</th>\n",
       "      <td>Richie's Famous Minimax Theatre</td>\n",
       "      <td>Harry Plotter</td>\n",
       "      <td>59</td>\n",
       "      <td>524</td>\n",
       "      <td>5088</td>\n",
       "      <td>30916</td>\n",
       "    </tr>\n",
       "    <tr>\n",
       "      <th>2</th>\n",
       "      <td>Richie's Famous Minimax Theatre</td>\n",
       "      <td>Kung Fu pandas</td>\n",
       "      <td>61</td>\n",
       "      <td>544</td>\n",
       "      <td>3036</td>\n",
       "      <td>33184</td>\n",
       "    </tr>\n",
       "    <tr>\n",
       "      <th>3</th>\n",
       "      <td>Richie's Famous Minimax Theatre</td>\n",
       "      <td>Mamma Median!</td>\n",
       "      <td>89</td>\n",
       "      <td>656</td>\n",
       "      <td>4212</td>\n",
       "      <td>58384</td>\n",
       "    </tr>\n",
       "    <tr>\n",
       "      <th>4</th>\n",
       "      <td>Richie's Famous Minimax Theatre</td>\n",
       "      <td>The Matrices</td>\n",
       "      <td>97</td>\n",
       "      <td>708</td>\n",
       "      <td>6256</td>\n",
       "      <td>68676</td>\n",
       "    </tr>\n",
       "  </tbody>\n",
       "</table>\n",
       "</div>"
      ],
      "text/plain": [
       "                      theater_name                  movie_title  \\\n",
       "0  Richie's Famous Minimax Theatre  10 Things I Hate About Unix   \n",
       "1  Richie's Famous Minimax Theatre                Harry Plotter   \n",
       "2  Richie's Famous Minimax Theatre               Kung Fu pandas   \n",
       "3  Richie's Famous Minimax Theatre                Mamma Median!   \n",
       "4  Richie's Famous Minimax Theatre                 The Matrices   \n",
       "\n",
       "   ticket_quantity  ticket_price  movie_length  revenue  \n",
       "0               74           572          3686    42328  \n",
       "1               59           524          5088    30916  \n",
       "2               61           544          3036    33184  \n",
       "3               89           656          4212    58384  \n",
       "4               97           708          6256    68676  "
      ]
     },
     "execution_count": 34,
     "metadata": {},
     "output_type": "execute_result"
    }
   ],
   "source": [
    "totals2 = df.groupby(['theater_name','movie_title'], as_index=False).sum()\n",
    "totals2['revenue'] = totals2['ticket_quantity'] * totals2['ticket_price']\n",
    "totals2.head()"
   ]
  },
  {
   "cell_type": "code",
   "execution_count": 35,
   "metadata": {},
   "outputs": [
    {
     "data": {
      "image/png": "[encoded data removed]",
      "text/plain": [
       "<Figure size 432x288 with 1 Axes>"
      ]
     },
     "metadata": {},
     "output_type": "display_data"
    }
   ],
   "source": [
    "sns.barplot(x='theater_name', y='revenue', data=totals2, hue='movie_title')\n",
    "plt.show()"
   ]
  },
  {
   "cell_type": "code",
   "execution_count": 36,
   "metadata": {},
   "outputs": [
    {
     "data": {
      "image/png": "[encoded data removed]",
      "text/plain": [
       "<Figure size 432x288 with 1 Axes>"
      ]
     },
     "metadata": {},
     "output_type": "display_data"
    }
   ],
   "source": [
    "sns.barplot(x='theater_name', y='revenue', data=totals2, hue='movie_title')\n",
    "plt.legend(bbox_to_anchor=(1,1))\n",
    "\n",
    "plt.show()"
   ]
  },
  {
   "cell_type": "code",
   "execution_count": 37,
   "metadata": {},
   "outputs": [
    {
     "data": {
      "image/png": "[encoded data removed]",
      "text/plain": [
       "<Figure size 432x288 with 1 Axes>"
      ]
     },
     "metadata": {},
     "output_type": "display_data"
    }
   ],
   "source": [
    "sns.set_style('whitegrid')\n",
    "sns.barplot(x='theater_name', y='revenue', data=totals2, hue='movie_title')\n",
    "plt.legend(bbox_to_anchor=(1,1))\n",
    "plt.title('Revenue by Theater - Movie Breakdown')\n",
    "plt.xlabel('Theater')\n",
    "plt.ylabel('Revenue')\n",
    "sns.despine()\n",
    "\n",
    "plt.show()"
   ]
  },
  {
   "cell_type": "code",
   "execution_count": null,
   "metadata": {},
   "outputs": [],
   "source": []
  }
 ],
 "metadata": {
  "kernelspec": {
   "display_name": "Python 3",
   "language": "python",
   "name": "python3"
  },
  "language_info": {
   "codemirror_mode": {
    "name": "ipython",
    "version": 3
   },
   "file_extension": ".py",
   "mimetype": "text/x-python",
   "name": "python",
   "nbconvert_exporter": "python",
   "pygments_lexer": "ipython3",
   "version": "3.6.8"
  }
 },
 "nbformat": 4,
 "nbformat_minor": 2
}
